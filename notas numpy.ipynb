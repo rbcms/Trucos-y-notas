{
 "cells": [
  {
   "cell_type": "code",
   "execution_count": 367,
   "metadata": {},
   "outputs": [],
   "source": [
    "import csv\n",
    "import numpy as np\n",
    "import pandas as pd\n"
   ]
  },
  {
   "cell_type": "code",
   "execution_count": 368,
   "metadata": {},
   "outputs": [
    {
     "name": "stdout",
     "output_type": "stream",
     "text": [
      "['company_name', 'id', 'reason_table', 'claim_reference', 'claim_type', 'claim_open_date', 'disbursement_status', 'disbursement_created_date', 'amount']\n",
      "['Reynards Legal Limited', '2', 'created', 'NULL', 'NULL', 'NULL', 'NULL', 'NULL', '0']\n",
      "['Reynards Legal Limited', '3', 'paid', 'NULL', 'NULL', 'NULL', 'NULL', 'NULL', '0']\n",
      "['Reynards Legal Limited', '4', 'created', 'CW101008', 'CWI', '03/10/2018', 'NULL', 'NULL', '0']\n",
      "['Reynards Legal Limited', '5', 'created', 'CW101008', 'CWI', '03/10/2018', 'Cancelled', '03/10/2018', '0']\n",
      "['Reynards Legal Limited', '6', 'created', 'CW101008', 'CWI', '03/10/2018', 'Cancelled', '03/10/2018', '2184']\n",
      "['Reynards Legal Limited', '7', 'calculated', 'CW101008', 'CWI', '03/10/2018', 'NULL', 'NULL', '0']\n",
      "['Reynards Legal Limited', '8', 'cancelled', 'CW101008', 'CWI', '03/10/2018', 'Cancelled', '03/10/2018', '0']\n",
      "['Reynards Legal Limited', '9', 'cancelled', 'CW101008', 'CWI', '03/10/2018', 'Cancelled', '03/10/2018', '2184']\n",
      "['Just Costs Solicitors Limited', '10', 'created', 'NULL', 'NULL', 'NULL', 'NULL', 'NULL', '0']\n",
      "['Reynards Legal Limited', '11', 'calculated', 'CW101008', 'CWI', '03/10/2018', 'NULL', 'NULL', '0']\n",
      "['Milestone Claims Limited', '12', 'created', 'NULL', 'NULL', 'NULL', 'NULL', 'NULL', '0']\n",
      "['Just Costs Solicitors Limited', '13', 'created', '179600.cwi', 'CWI', '02/11/2018', 'NULL', 'NULL', '0']\n",
      "['Just Costs Solicitors Limited', '14', 'created', '179600.cwi', 'CWI', '02/11/2018', 'Active', '02/11/2018', '0']\n",
      "['Just Costs Solicitors Limited', '15', 'created', '179600.cwi', 'CWI', '02/11/2018', 'Active', '02/11/2018', '669.6']\n",
      "['Just Costs Solicitors Limited', '16', 'created', '179600.cwi', 'CWI', '02/11/2018', 'Active', '02/11/2018', '0']\n",
      "['Just Costs Solicitors Limited', '17', 'created', '179600.cwi', 'CWI', '02/11/2018', 'Active', '02/11/2018', '1494']\n",
      "['Just Costs Solicitors Limited', '18', 'created', '179600.cwi', 'CWI', '02/11/2018', 'Active', '02/11/2018', '0']\n",
      "['Just Costs Solicitors Limited', '19', 'created', '179600.cwi', 'CWI', '02/11/2018', 'Active', '02/11/2018', '2184']\n",
      "['Just Costs Solicitors Limited', '20', 'created', '179618.cwi', 'CWI', '02/11/2018', 'NULL', 'NULL', '0']\n",
      "['Just Costs Solicitors Limited', '21', 'created', '179618.cwi', 'CWI', '02/11/2018', 'Active', '02/11/2018', '0']\n",
      "['Just Costs Solicitors Limited', '22', 'created', '179618.cwi', 'CWI', '02/11/2018', 'Active', '02/11/2018', '2184']\n",
      "['Just Costs Solicitors Limited', '23', 'created', '179618.cwi', 'CWI', '02/11/2018', 'Active', '02/11/2018', '0']\n",
      "['Just Costs Solicitors Limited', '24', 'created', '179618.cwi', 'CWI', '02/11/2018', 'Active', '02/11/2018', '669.6']\n",
      "['Just Costs Solicitors Limited', '25', 'created', '179618.cwi', 'CWI', '02/11/2018', 'Active', '02/11/2018', '0']\n",
      "['Just Costs Solicitors Limited', '26', 'created', '179618.cwi', 'CWI', '02/11/2018', 'Active', '02/11/2018', '1494']\n",
      "['Just Costs Solicitors Limited', '27', 'created', '179617.cwi', 'CWI', '02/11/2018', 'NULL', 'NULL', '0']\n",
      "['Just Costs Solicitors Limited', '28', 'created', '179617.cwi', 'CWI', '02/11/2018', 'Active', '02/11/2018', '0']\n",
      "['Just Costs Solicitors Limited', '29', 'created', '179617.cwi', 'CWI', '02/11/2018', 'Active', '02/11/2018', '2184']\n",
      "['Just Costs Solicitors Limited', '30', 'created', '179617.cwi', 'CWI', '02/11/2018', 'Active', '02/11/2018', '0']\n",
      "['Just Costs Solicitors Limited', '31', 'created', '179617.cwi', 'CWI', '02/11/2018', 'Active', '02/11/2018', '669.6']\n",
      "['Just Costs Solicitors Limited', '32', 'created', '179617.cwi', 'CWI', '02/11/2018', 'Active', '02/11/2018', '0']\n",
      "['Just Costs Solicitors Limited', '33', 'created', '179617.cwi', 'CWI', '02/11/2018', 'Active', '02/11/2018', '1494']\n",
      "['Just Costs Solicitors Limited', '34', 'created', '179612.cwi', 'CWI', '02/11/2018', 'NULL', 'NULL', '0']\n",
      "['Just Costs Solicitors Limited', '35', 'created', '179599.cwi', 'CWI', '02/11/2018', 'NULL', 'NULL', '0']\n",
      "['Just Costs Solicitors Limited', '36', 'created', '179599.cwi', 'CWI', '02/11/2018', 'Active', '02/11/2018', '0']\n",
      "['Just Costs Solicitors Limited', '37', 'created', '179599.cwi', 'CWI', '02/11/2018', 'Active', '02/11/2018', '2184']\n",
      "['Just Costs Solicitors Limited', '38', 'created', '179599.cwi', 'CWI', '02/11/2018', 'Active', '02/11/2018', '0']\n",
      "['Just Costs Solicitors Limited', '39', 'created', '179599.cwi', 'CWI', '02/11/2018', 'Active', '02/11/2018', '669.6']\n",
      "['Just Costs Solicitors Limited', '40', 'created', '179599.cwi', 'CWI', '02/11/2018', 'Active', '02/11/2018', '0']\n",
      "['Just Costs Solicitors Limited', '41', 'created', '179599.cwi', 'CWI', '02/11/2018', 'Active', '02/11/2018', '1494']\n",
      "['Just Costs Solicitors Limited', '42', 'created', '179623.cwi', 'CWI', '02/11/2018', 'NULL', 'NULL', '0']\n",
      "['Just Costs Solicitors Limited', '43', 'created', '179623.cwi', 'CWI', '02/11/2018', 'Active', '02/11/2018', '0']\n",
      "['Just Costs Solicitors Limited', '44', 'created', '179623.cwi', 'CWI', '02/11/2018', 'Active', '02/11/2018', '2184']\n",
      "['Just Costs Solicitors Limited', '45', 'created', '179623.cwi', 'CWI', '02/11/2018', 'Active', '02/11/2018', '0']\n",
      "['Just Costs Solicitors Limited', '46', 'created', '179623.cwi', 'CWI', '02/11/2018', 'Active', '02/11/2018', '669.6']\n",
      "['Just Costs Solicitors Limited', '47', 'created', '179623.cwi', 'CWI', '02/11/2018', 'Active', '02/11/2018', '0']\n",
      "['Just Costs Solicitors Limited', '48', 'created', '179623.cwi', 'CWI', '02/11/2018', 'Active', '02/11/2018', '1494']\n",
      "['Just Costs Solicitors Limited', '49', 'created', '179626.cwi', 'CWI', '02/11/2018', 'NULL', 'NULL', '0']\n",
      "['Just Costs Solicitors Limited', '50', 'created', '179626.cwi', 'CWI', '02/11/2018', 'Active', '02/11/2018', '0']\n",
      "['Just Costs Solicitors Limited', '51', 'created', '179626.cwi', 'CWI', '02/11/2018', 'Active', '02/11/2018', '2184']\n",
      "['Just Costs Solicitors Limited', '52', 'created', '179626.cwi', 'CWI', '02/11/2018', 'Active', '02/11/2018', '0']\n",
      "['Just Costs Solicitors Limited', '53', 'created', '179626.cwi', 'CWI', '02/11/2018', 'Active', '02/11/2018', '669.6']\n",
      "['Just Costs Solicitors Limited', '54', 'created', '179626.cwi', 'CWI', '02/11/2018', 'Active', '02/11/2018', '0']\n",
      "['Just Costs Solicitors Limited', '55', 'created', '179626.cwi', 'CWI', '02/11/2018', 'Active', '02/11/2018', '1494']\n",
      "['Just Costs Solicitors Limited', '56', 'created', '179622.cwi', 'CWI', '02/11/2018', 'NULL', 'NULL', '0']\n",
      "['Just Costs Solicitors Limited', '57', 'created', '179622.cwi', 'CWI', '02/11/2018', 'Cancelled', '02/11/2018', '0']\n",
      "['Just Costs Solicitors Limited', '58', 'created', '179622.cwi', 'CWI', '02/11/2018', 'Cancelled', '02/11/2018', '2184']\n",
      "['Just Costs Solicitors Limited', '59', 'created', '179622.cwi', 'CWI', '02/11/2018', 'Cancelled', '02/11/2018', '0']\n",
      "['Just Costs Solicitors Limited', '60', 'created', '179622.cwi', 'CWI', '02/11/2018', 'Cancelled', '02/11/2018', '669.6']\n",
      "['Just Costs Solicitors Limited', '61', 'created', '179622.cwi', 'CWI', '02/11/2018', 'Cancelled', '02/11/2018', '0']\n",
      "['Just Costs Solicitors Limited', '62', 'created', '179622.cwi', 'CWI', '02/11/2018', 'Cancelled', '02/11/2018', '1494']\n",
      "['Just Costs Solicitors Limited', '63', 'created', '179625.cwi', 'CWI', '02/11/2018', 'NULL', 'NULL', '0']\n",
      "['Just Costs Solicitors Limited', '64', 'created', '179625.cwi', 'CWI', '02/11/2018', 'Active', '02/11/2018', '0']\n",
      "['Just Costs Solicitors Limited', '65', 'created', '179625.cwi', 'CWI', '02/11/2018', 'Active', '02/11/2018', '2184']\n",
      "['Just Costs Solicitors Limited', '66', 'created', '179625.cwi', 'CWI', '02/11/2018', 'Active', '02/11/2018', '0']\n",
      "['Just Costs Solicitors Limited', '67', 'created', '179625.cwi', 'CWI', '02/11/2018', 'Active', '02/11/2018', '669.6']\n",
      "['Just Costs Solicitors Limited', '68', 'created', '179625.cwi', 'CWI', '02/11/2018', 'Active', '02/11/2018', '0']\n",
      "['Just Costs Solicitors Limited', '69', 'created', '179625.cwi', 'CWI', '02/11/2018', 'Active', '02/11/2018', '1494']\n",
      "['Just Costs Solicitors Limited', '70', 'created', '179621.cwi', 'CWI', '02/11/2018', 'NULL', 'NULL', '0']\n",
      "['Just Costs Solicitors Limited', '71', 'created', '179621.cwi', 'CWI', '02/11/2018', 'Active', '02/11/2018', '0']\n",
      "['Just Costs Solicitors Limited', '72', 'created', '179621.cwi', 'CWI', '02/11/2018', 'Active', '02/11/2018', '2184']\n",
      "['Just Costs Solicitors Limited', '73', 'created', '179621.cwi', 'CWI', '02/11/2018', 'Active', '02/11/2018', '0']\n",
      "['Just Costs Solicitors Limited', '74', 'created', '179621.cwi', 'CWI', '02/11/2018', 'Active', '02/11/2018', '669.6']\n",
      "['Just Costs Solicitors Limited', '75', 'created', '179621.cwi', 'CWI', '02/11/2018', 'Active', '02/11/2018', '0']\n",
      "['Just Costs Solicitors Limited', '76', 'created', '179621.cwi', 'CWI', '02/11/2018', 'Active', '02/11/2018', '1494']\n",
      "['Just Costs Solicitors Limited', '77', 'created', '179624.cwi', 'CWI', '02/11/2018', 'NULL', 'NULL', '0']\n",
      "['Just Costs Solicitors Limited', '78', 'created', '179624.cwi', 'CWI', '02/11/2018', 'Active', '02/11/2018', '0']\n",
      "['Just Costs Solicitors Limited', '79', 'created', '179624.cwi', 'CWI', '02/11/2018', 'Active', '02/11/2018', '2184']\n",
      "['Just Costs Solicitors Limited', '80', 'created', '179624.cwi', 'CWI', '02/11/2018', 'Active', '02/11/2018', '0']\n",
      "['Just Costs Solicitors Limited', '81', 'created', '179624.cwi', 'CWI', '02/11/2018', 'Active', '02/11/2018', '669.6']\n",
      "['Just Costs Solicitors Limited', '82', 'created', '179624.cwi', 'CWI', '02/11/2018', 'Active', '02/11/2018', '0']\n",
      "['Just Costs Solicitors Limited', '83', 'created', '179624.cwi', 'CWI', '02/11/2018', 'Active', '02/11/2018', '1494']\n",
      "['Just Costs Solicitors Limited', '84', 'created', '179598.cwi', 'CWI', '02/11/2018', 'NULL', 'NULL', '0']\n",
      "['Just Costs Solicitors Limited', '85', 'created', '179598.cwi', 'CWI', '02/11/2018', 'Refunded', '02/11/2018', '0']\n",
      "['Just Costs Solicitors Limited', '86', 'created', '179598.cwi', 'CWI', '02/11/2018', 'Refunded', '02/11/2018', '2184']\n",
      "['Just Costs Solicitors Limited', '87', 'created', '179598.cwi', 'CWI', '02/11/2018', 'Refunded', '02/11/2018', '0']\n",
      "['Just Costs Solicitors Limited', '88', 'created', '179598.cwi', 'CWI', '02/11/2018', 'Refunded', '02/11/2018', '669.6']\n",
      "['Just Costs Solicitors Limited', '89', 'created', '179598.cwi', 'CWI', '02/11/2018', 'Refunded', '02/11/2018', '0']\n",
      "['Just Costs Solicitors Limited', '90', 'created', '179598.cwi', 'CWI', '02/11/2018', 'Refunded', '02/11/2018', '1494']\n",
      "['Just Costs Solicitors Limited', '91', 'cancelled', '179622.cwi', 'CWI', '02/11/2018', 'Cancelled', '02/11/2018', '0']\n",
      "['Just Costs Solicitors Limited', '92', 'cancelled', '179622.cwi', 'CWI', '02/11/2018', 'Cancelled', '02/11/2018', '2184']\n",
      "['Just Costs Solicitors Limited', '93', 'cancelled', '179622.cwi', 'CWI', '02/11/2018', 'Cancelled', '02/11/2018', '0']\n",
      "['Just Costs Solicitors Limited', '94', 'cancelled', '179622.cwi', 'CWI', '02/11/2018', 'Cancelled', '02/11/2018', '669.6']\n",
      "['Just Costs Solicitors Limited', '95', 'cancelled', '179622.cwi', 'CWI', '02/11/2018', 'Cancelled', '02/11/2018', '0']\n",
      "['Just Costs Solicitors Limited', '96', 'cancelled', '179622.cwi', 'CWI', '02/11/2018', 'Cancelled', '02/11/2018', '1494']\n",
      "['Just Costs Solicitors Limited', '97', 'cancelled', '179622.cwi', 'CWI', '02/11/2018', 'NULL', 'NULL', '0']\n",
      "['Just Costs Solicitors Limited', '98', 'created', '179611.cwi', 'CWI', '02/11/2018', 'NULL', 'NULL', '0']\n",
      "['Just Costs Solicitors Limited', '99', 'created', '179611.cwi', 'CWI', '02/11/2018', 'Active', '02/11/2018', '0']\n",
      "['Just Costs Solicitors Limited', '100', 'created', '179611.cwi', 'CWI', '02/11/2018', 'Active', '02/11/2018', '2184']\n",
      "['Just Costs Solicitors Limited', '101', 'created', '179611.cwi', 'CWI', '02/11/2018', 'Active', '02/11/2018', '0']\n"
     ]
    }
   ],
   "source": [
    "\n",
    "with open('tabla_reports.csv', newline='') as File:  \n",
    "    reader = csv.reader(File)\n",
    "    for row in reader:\n",
    "        print(row)"
   ]
  },
  {
   "cell_type": "code",
   "execution_count": 369,
   "metadata": {},
   "outputs": [],
   "source": [
    "df = pd.read_csv('tabla_reports.csv', sep=',')\n",
    "datos = df.values"
   ]
  },
  {
   "cell_type": "code",
   "execution_count": 371,
   "metadata": {},
   "outputs": [
    {
     "data": {
      "text/html": [
       "<div>\n",
       "<style scoped>\n",
       "    .dataframe tbody tr th:only-of-type {\n",
       "        vertical-align: middle;\n",
       "    }\n",
       "\n",
       "    .dataframe tbody tr th {\n",
       "        vertical-align: top;\n",
       "    }\n",
       "\n",
       "    .dataframe thead th {\n",
       "        text-align: right;\n",
       "    }\n",
       "</style>\n",
       "<table border=\"1\" class=\"dataframe\">\n",
       "  <thead>\n",
       "    <tr style=\"text-align: right;\">\n",
       "      <th></th>\n",
       "      <th>company_name</th>\n",
       "      <th>id</th>\n",
       "      <th>reason_table</th>\n",
       "      <th>claim_reference</th>\n",
       "      <th>claim_type</th>\n",
       "      <th>claim_open_date</th>\n",
       "      <th>disbursement_status</th>\n",
       "      <th>disbursement_created_date</th>\n",
       "      <th>amount</th>\n",
       "    </tr>\n",
       "  </thead>\n",
       "  <tbody>\n",
       "    <tr>\n",
       "      <th>0</th>\n",
       "      <td>Reynards Legal Limited</td>\n",
       "      <td>2</td>\n",
       "      <td>created</td>\n",
       "      <td>NaN</td>\n",
       "      <td>NaN</td>\n",
       "      <td>NaN</td>\n",
       "      <td>NaN</td>\n",
       "      <td>NaN</td>\n",
       "      <td>0.0</td>\n",
       "    </tr>\n",
       "  </tbody>\n",
       "</table>\n",
       "</div>"
      ],
      "text/plain": [
       "             company_name  id reason_table claim_reference claim_type  \\\n",
       "0  Reynards Legal Limited   2      created             NaN        NaN   \n",
       "\n",
       "  claim_open_date disbursement_status disbursement_created_date  amount  \n",
       "0             NaN                 NaN                       NaN     0.0  "
      ]
     },
     "execution_count": 371,
     "metadata": {},
     "output_type": "execute_result"
    }
   ],
   "source": [
    "df.head(1)"
   ]
  },
  {
   "cell_type": "code",
   "execution_count": 372,
   "metadata": {},
   "outputs": [],
   "source": [
    "#datos"
   ]
  },
  {
   "cell_type": "code",
   "execution_count": 373,
   "metadata": {},
   "outputs": [
    {
     "data": {
      "text/plain": [
       "numpy.ndarray"
      ]
     },
     "execution_count": 373,
     "metadata": {},
     "output_type": "execute_result"
    }
   ],
   "source": [
    "type(datos)"
   ]
  },
  {
   "cell_type": "code",
   "execution_count": 374,
   "metadata": {},
   "outputs": [],
   "source": [
    "# csv = np.genfromtxt ('tabla_reports.csv', delimiter=\",\",dtype = None) # con no tipos"
   ]
  },
  {
   "cell_type": "code",
   "execution_count": 375,
   "metadata": {},
   "outputs": [],
   "source": [
    "csv = np.genfromtxt ('tabla_reports.csv', delimiter=\",\",skip_header=0)"
   ]
  },
  {
   "cell_type": "code",
   "execution_count": 376,
   "metadata": {},
   "outputs": [
    {
     "ename": "SyntaxError",
     "evalue": "unexpected EOF while parsing (<ipython-input-376-d16ba1b455b1>, line 13)",
     "output_type": "error",
     "traceback": [
      "\u001b[1;36m  File \u001b[1;32m\"<ipython-input-376-d16ba1b455b1>\"\u001b[1;36m, line \u001b[1;32m13\u001b[0m\n\u001b[1;33m    #print(header)\u001b[0m\n\u001b[1;37m                   ^\u001b[0m\n\u001b[1;31mSyntaxError\u001b[0m\u001b[1;31m:\u001b[0m unexpected EOF while parsing\n"
     ]
    }
   ],
   "source": [
    "# get all data as panda DataFrame\n",
    "data = pd.read_csv(\"tabla_reports.csv\")\n",
    "#print(data)\n",
    "\n",
    "# get values as numpy array\n",
    "data_ar = data.values\n",
    "header = []# numpy.ndarray, every element is a row\n",
    "for row in data_ar:\n",
    "    # print(row)\n",
    "    sum = 0\n",
    "    count = 0\n",
    "    for reason_table in np.nditer(row, flags=[\"refs_OK\"], op_flags=[\"readwrite\"]):\n",
    "        #print(header) "
   ]
  },
  {
   "cell_type": "code",
   "execution_count": 377,
   "metadata": {},
   "outputs": [
    {
     "data": {
      "text/plain": [
       "numpy.ndarray"
      ]
     },
     "execution_count": 377,
     "metadata": {},
     "output_type": "execute_result"
    }
   ],
   "source": [
    "type(data_ar)"
   ]
  },
  {
   "cell_type": "code",
   "execution_count": 378,
   "metadata": {},
   "outputs": [
    {
     "name": "stdout",
     "output_type": "stream",
     "text": [
      "  C_CONTIGUOUS : False\n",
      "  F_CONTIGUOUS : True\n",
      "  OWNDATA : False\n",
      "  WRITEABLE : True\n",
      "  ALIGNED : True\n",
      "  WRITEBACKIFCOPY : False\n",
      "  UPDATEIFCOPY : False\n"
     ]
    }
   ],
   "source": [
    "print(data_ar.flags)"
   ]
  },
  {
   "cell_type": "code",
   "execution_count": 379,
   "metadata": {},
   "outputs": [
    {
     "data": {
      "text/plain": [
       "(101, 9)"
      ]
     },
     "execution_count": 379,
     "metadata": {},
     "output_type": "execute_result"
    }
   ],
   "source": [
    "csv.shape"
   ]
  },
  {
   "cell_type": "code",
   "execution_count": 380,
   "metadata": {},
   "outputs": [
    {
     "data": {
      "text/plain": [
       "dtype('float64')"
      ]
     },
     "execution_count": 380,
     "metadata": {},
     "output_type": "execute_result"
    }
   ],
   "source": [
    "csv.dtype"
   ]
  },
  {
   "cell_type": "code",
   "execution_count": 11,
   "metadata": {},
   "outputs": [],
   "source": [
    "#csv[0:]"
   ]
  },
  {
   "cell_type": "code",
   "execution_count": 12,
   "metadata": {},
   "outputs": [
    {
     "data": {
      "text/plain": [
       "2"
      ]
     },
     "execution_count": 12,
     "metadata": {},
     "output_type": "execute_result"
    }
   ],
   "source": [
    "datos.ndim"
   ]
  },
  {
   "cell_type": "code",
   "execution_count": 13,
   "metadata": {},
   "outputs": [
    {
     "data": {
      "text/plain": [
       "8"
      ]
     },
     "execution_count": 13,
     "metadata": {},
     "output_type": "execute_result"
    }
   ],
   "source": [
    "datos.itemsize"
   ]
  },
  {
   "cell_type": "code",
   "execution_count": 14,
   "metadata": {},
   "outputs": [
    {
     "data": {
      "text/plain": [
       "100"
      ]
     },
     "execution_count": 14,
     "metadata": {},
     "output_type": "execute_result"
    }
   ],
   "source": [
    "len(datos)"
   ]
  },
  {
   "cell_type": "code",
   "execution_count": 15,
   "metadata": {},
   "outputs": [
    {
     "data": {
      "text/plain": [
       "numpy.ndarray"
      ]
     },
     "execution_count": 15,
     "metadata": {},
     "output_type": "execute_result"
    }
   ],
   "source": [
    "type(datos)"
   ]
  },
  {
   "cell_type": "code",
   "execution_count": 16,
   "metadata": {},
   "outputs": [],
   "source": [
    "matriz = np.asmatrix(datos)"
   ]
  },
  {
   "cell_type": "code",
   "execution_count": 17,
   "metadata": {},
   "outputs": [],
   "source": [
    "np = np.array(datos)"
   ]
  },
  {
   "cell_type": "code",
   "execution_count": 18,
   "metadata": {},
   "outputs": [
    {
     "name": "stdout",
     "output_type": "stream",
     "text": [
      "<class 'numpy.matrixlib.defmatrix.matrix'>\n",
      "<class 'numpy.ndarray'>\n",
      "<class 'numpy.ndarray'>\n",
      "<class 'numpy.ndarray'>\n"
     ]
    }
   ],
   "source": [
    "print(type(matriz))\n",
    "print(type(csv))\n",
    "print(type(datos))\n",
    "print(type(np))"
   ]
  },
  {
   "cell_type": "code",
   "execution_count": 19,
   "metadata": {},
   "outputs": [
    {
     "data": {
      "text/plain": [
       "(100, 9)"
      ]
     },
     "execution_count": 19,
     "metadata": {},
     "output_type": "execute_result"
    }
   ],
   "source": [
    "matriz.shape"
   ]
  },
  {
   "cell_type": "markdown",
   "metadata": {},
   "source": [
    "* algunas cositas"
   ]
  },
  {
   "cell_type": "code",
   "execution_count": 381,
   "metadata": {},
   "outputs": [],
   "source": [
    "x_data = matriz[: , : -1]\n",
    "# x_data"
   ]
  },
  {
   "cell_type": "code",
   "execution_count": 24,
   "metadata": {},
   "outputs": [],
   "source": [
    "y_data = matriz[: , -1] # imprimo ultima columna de cada row\n",
    "#y_data"
   ]
  },
  {
   "cell_type": "code",
   "execution_count": 25,
   "metadata": {},
   "outputs": [],
   "source": [
    "company_name = matriz[: , 0:4]"
   ]
  },
  {
   "cell_type": "code",
   "execution_count": 26,
   "metadata": {},
   "outputs": [
    {
     "data": {
      "text/plain": [
       "(100, 4)"
      ]
     },
     "execution_count": 26,
     "metadata": {},
     "output_type": "execute_result"
    }
   ],
   "source": [
    "company_name.shape"
   ]
  },
  {
   "cell_type": "markdown",
   "metadata": {},
   "source": [
    " * valores unicos de la columna"
   ]
  },
  {
   "cell_type": "code",
   "execution_count": 382,
   "metadata": {},
   "outputs": [
    {
     "data": {
      "text/plain": [
       "['calculated', 'cancelled', 'created', 'paid']"
      ]
     },
     "execution_count": 382,
     "metadata": {},
     "output_type": "execute_result"
    }
   ],
   "source": [
    "import numpy as np\n",
    "# todas las row de las columnas 0, 2, -1\n",
    "compania = matriz[:,[0,2,-1]]\n",
    "# compania\n",
    "comp_array = np.array(compania)\n",
    "col_unique = (sorted(set(comp_array[:,1]))) # valores unicos de la columna\n",
    "col_unique"
   ]
  },
  {
   "cell_type": "code",
   "execution_count": 384,
   "metadata": {},
   "outputs": [
    {
     "data": {
      "text/plain": [
       "array([['Reynards Legal Limited', 'created', 0.0],\n",
       "       ['Reynards Legal Limited', 'paid', 0.0]], dtype=object)"
      ]
     },
     "execution_count": 384,
     "metadata": {},
     "output_type": "execute_result"
    }
   ],
   "source": [
    "comp_array[:2]"
   ]
  },
  {
   "cell_type": "markdown",
   "metadata": {},
   "source": [
    "* filtrando columnas"
   ]
  },
  {
   "cell_type": "code",
   "execution_count": 386,
   "metadata": {},
   "outputs": [],
   "source": [
    "A = [ [ind,row[0],row[-1]] for ind,row in enumerate(comp_array) if row[-1] > 0]"
   ]
  },
  {
   "cell_type": "code",
   "execution_count": 388,
   "metadata": {},
   "outputs": [],
   "source": [
    "# A"
   ]
  },
  {
   "cell_type": "code",
   "execution_count": 390,
   "metadata": {},
   "outputs": [],
   "source": [
    "a = [row for row in comp_array if row[1] != 'calculated' in comp_array]\n",
    "# a"
   ]
  },
  {
   "cell_type": "code",
   "execution_count": 39,
   "metadata": {},
   "outputs": [
    {
     "data": {
      "text/plain": [
       "['calculated', 'cancelled', 'created', 'paid']"
      ]
     },
     "execution_count": 39,
     "metadata": {},
     "output_type": "execute_result"
    }
   ],
   "source": [
    "col_unique"
   ]
  },
  {
   "cell_type": "markdown",
   "metadata": {},
   "source": [
    "* maskaras"
   ]
  },
  {
   "cell_type": "code",
   "execution_count": 393,
   "metadata": {},
   "outputs": [
    {
     "data": {
      "text/plain": [
       "array([[False],\n",
       "       [False],\n",
       "       [False],\n",
       "       [False],\n",
       "       [False],\n",
       "       [False],\n",
       "       [ True]])"
      ]
     },
     "execution_count": 393,
     "metadata": {},
     "output_type": "execute_result"
    }
   ],
   "source": [
    "mask = comp_array[:7,[1]]== \"cancelled\" \n",
    "\n",
    "mask"
   ]
  },
  {
   "cell_type": "code",
   "execution_count": 394,
   "metadata": {},
   "outputs": [],
   "source": [
    "b = np.where(mask,np.arange(mask.size),0)\n",
    "# b\n",
    "# np.maximum.accumulate(np.where(mask,np.arange(mask.size),0))"
   ]
  },
  {
   "cell_type": "code",
   "execution_count": 401,
   "metadata": {},
   "outputs": [
    {
     "data": {
      "text/plain": [
       "array([[0, 0, 0, 0, 0, 0, 0],\n",
       "       [0, 0, 0, 0, 0, 0, 0],\n",
       "       [0, 0, 0, 0, 0, 0, 0],\n",
       "       [0, 0, 0, 0, 0, 0, 0],\n",
       "       [0, 0, 0, 0, 0, 0, 0],\n",
       "       [0, 0, 0, 0, 0, 0, 0],\n",
       "       [0, 1, 2, 3, 4, 5, 6]], dtype=int32)"
      ]
     },
     "execution_count": 401,
     "metadata": {},
     "output_type": "execute_result"
    }
   ],
   "source": [
    "idx = np.maximum.accumulate(np.where(mask,np.arange(mask.size),0))\n",
    "idx"
   ]
  },
  {
   "cell_type": "code",
   "execution_count": 404,
   "metadata": {},
   "outputs": [
    {
     "data": {
      "text/plain": [
       "array([[False, False, False],\n",
       "       [False, False, False],\n",
       "       [False, False, False],\n",
       "       [False, False, False],\n",
       "       [False, False, False],\n",
       "       [False, False, False],\n",
       "       [False,  True, False],\n",
       "       [False,  True, False],\n",
       "       [False, False, False],\n",
       "       [False, False, False]])"
      ]
     },
     "execution_count": 404,
     "metadata": {},
     "output_type": "execute_result"
    }
   ],
   "source": [
    "mask = comp_array[:10,[0,1,2]]== \"cancelled\" \n",
    "mask"
   ]
  },
  {
   "cell_type": "code",
   "execution_count": 405,
   "metadata": {},
   "outputs": [
    {
     "data": {
      "text/plain": [
       "2"
      ]
     },
     "execution_count": 405,
     "metadata": {},
     "output_type": "execute_result"
    }
   ],
   "source": [
    "np.count_nonzero(mask) # cuenta el numero de True"
   ]
  },
  {
   "cell_type": "code",
   "execution_count": 407,
   "metadata": {},
   "outputs": [
    {
     "data": {
      "text/plain": [
       "array([['Reynards Legal Limited', 'created', 0.0],\n",
       "       ['Reynards Legal Limited', 'paid', 0.0],\n",
       "       ['Reynards Legal Limited', 'created', 0.0],\n",
       "       ['Reynards Legal Limited', 'created', 0.0],\n",
       "       ['Reynards Legal Limited', 'created', 2184.0]], dtype=object)"
      ]
     },
     "execution_count": 407,
     "metadata": {},
     "output_type": "execute_result"
    }
   ],
   "source": [
    "array  = np.array(comp_array[:5,[0,1,2]])\n",
    "array"
   ]
  },
  {
   "cell_type": "code",
   "execution_count": 409,
   "metadata": {},
   "outputs": [
    {
     "data": {
      "text/plain": [
       "(5, 3)"
      ]
     },
     "execution_count": 409,
     "metadata": {},
     "output_type": "execute_result"
    }
   ],
   "source": [
    "array.shape"
   ]
  },
  {
   "cell_type": "code",
   "execution_count": 408,
   "metadata": {},
   "outputs": [
    {
     "name": "stdout",
     "output_type": "stream",
     "text": [
      "5 3\n"
     ]
    }
   ],
   "source": [
    "y = array.shape[0]\n",
    "x = array.shape[1]\n",
    "print(y,x)\n"
   ]
  },
  {
   "cell_type": "markdown",
   "metadata": {},
   "source": [
    "https://stackoverflow.com/questions/45768262/numpy-equivalent-of-if-else-without-loop?rq=1"
   ]
  },
  {
   "cell_type": "code",
   "execution_count": 412,
   "metadata": {},
   "outputs": [
    {
     "ename": "SyntaxError",
     "evalue": "unexpected EOF while parsing (<ipython-input-412-8ca571e5b442>, line 3)",
     "output_type": "error",
     "traceback": [
      "\u001b[1;36m  File \u001b[1;32m\"<ipython-input-412-8ca571e5b442>\"\u001b[1;36m, line \u001b[1;32m3\u001b[0m\n\u001b[1;33m    #print(x,y)\u001b[0m\n\u001b[1;37m               ^\u001b[0m\n\u001b[1;31mSyntaxError\u001b[0m\u001b[1;31m:\u001b[0m unexpected EOF while parsing\n"
     ]
    }
   ],
   "source": [
    "for x in range(array.shape[0]): \n",
    "    for y in range(array.shape[1]):\n",
    "        # print(x,y)"
   ]
  },
  {
   "cell_type": "markdown",
   "metadata": {},
   "source": [
    "* pivot-table adaptado"
   ]
  },
  {
   "cell_type": "code",
   "execution_count": 417,
   "metadata": {},
   "outputs": [],
   "source": [
    "def pivot_table(array, col, row, val, action=len, row_list=None, add_col_total=True):\n",
    "    '''le damos la matriz pero en forma array, especificamos la columna, la columna, la row, el valor y la acccion\n",
    "        si le damos la row_list, seran los valores que busque para contarlos o sumar'''\n",
    "  \n",
    "    col_unique = list(sorted(set(array[:,col])))\n",
    "    row_unique = row_list if row_list is not None else list(set(array[:,row]))\n",
    "    row_unique = list(filter(None, row_unique))\n",
    "    result_table = [[''] + row_unique]\n",
    "    for c in col_unique:\n",
    "        single_row = [c]\n",
    "        for r in row_unique:\n",
    "            value = action(array[(comp_array [:,col] == c) & (array[:,row] == r)][:,val])\n",
    "            single_row.append(value)           \n",
    "        if add_col_total:\n",
    "            single_row.append(sum(single_row[1:]))\n",
    "        result_table.append(single_row)\n",
    "    if add_col_total:\n",
    "        result_table[0] = result_table[0] + ['Total']\n",
    "    return np.array(result_table, dtype=object)"
   ]
  },
  {
   "cell_type": "code",
   "execution_count": 418,
   "metadata": {},
   "outputs": [],
   "source": [
    "# quiero saber la cantidad de razones por compania, la cantidad y el total"
   ]
  },
  {
   "cell_type": "code",
   "execution_count": 420,
   "metadata": {},
   "outputs": [],
   "source": [
    "# pivot_table(comp_array, 1, 0, 2, action=len, row_list=['calculated', 'cancelled', 'created', 'paid'])"
   ]
  },
  {
   "cell_type": "code",
   "execution_count": 56,
   "metadata": {},
   "outputs": [
    {
     "name": "stdout",
     "output_type": "stream",
     "text": [
      "<class 'numpy.matrixlib.defmatrix.matrix'>\n",
      "<class 'numpy.ndarray'>\n",
      "<class 'numpy.ndarray'>\n",
      "<class 'module'>\n",
      "<class 'numpy.matrixlib.defmatrix.matrix'>\n"
     ]
    }
   ],
   "source": [
    "print(type(matriz))\n",
    "print(type(csv))\n",
    "print(type(datos))\n",
    "print(type(np))\n",
    "print(type(compania))"
   ]
  },
  {
   "cell_type": "code",
   "execution_count": 421,
   "metadata": {},
   "outputs": [],
   "source": [
    "# todas las row de las columnas 0, 2, -1\n",
    "array = np.array(matriz[:20,[0,2,3,5,1]])"
   ]
  },
  {
   "cell_type": "markdown",
   "metadata": {},
   "source": [
    "* forma de crear una matriz"
   ]
  },
  {
   "cell_type": "code",
   "execution_count": 423,
   "metadata": {},
   "outputs": [],
   "source": [
    "matrix = np.matrix('2 2 1; 7 7 1; 11 12 1')\n",
    "array = np.array(matrix)"
   ]
  },
  {
   "cell_type": "code",
   "execution_count": 426,
   "metadata": {},
   "outputs": [
    {
     "data": {
      "text/plain": [
       "array([[ 2,  2,  1],\n",
       "       [ 7,  7,  1],\n",
       "       [11, 12,  1]])"
      ]
     },
     "execution_count": 426,
     "metadata": {},
     "output_type": "execute_result"
    }
   ],
   "source": [
    "array"
   ]
  },
  {
   "cell_type": "markdown",
   "metadata": {},
   "source": [
    "* funcion que se supone que cuenta valores, pero no lo tengo claro"
   ]
  },
  {
   "cell_type": "code",
   "execution_count": 435,
   "metadata": {},
   "outputs": [],
   "source": [
    "def counts_of_all_values_rowwise(array):\n",
    "    # Valores exclusivos e suas contagens de linha inteligente\n",
    "    num_counts_array = [np.unique(row, return_counts=True) for row in array]\n",
    "    # Contagens de todos os valores linha inteligente\n",
    "    contador = ([[int(b[a==i]) if i in a else 0 for i in np.unique(array)] for a, b in num_counts_array])\n",
    "    return contador\n"
   ]
  },
  {
   "cell_type": "code",
   "execution_count": 434,
   "metadata": {},
   "outputs": [
    {
     "data": {
      "text/plain": [
       "array([[ 2,  2,  1],\n",
       "       [ 7,  7,  1],\n",
       "       [11, 12,  1]])"
      ]
     },
     "execution_count": 434,
     "metadata": {},
     "output_type": "execute_result"
    }
   ],
   "source": [
    "array"
   ]
  },
  {
   "cell_type": "code",
   "execution_count": 432,
   "metadata": {},
   "outputs": [
    {
     "data": {
      "text/plain": [
       "[[1, 2, 0, 0, 0], [1, 0, 2, 0, 0], [1, 0, 0, 1, 1]]"
      ]
     },
     "execution_count": 432,
     "metadata": {},
     "output_type": "execute_result"
    }
   ],
   "source": [
    "counts_of_all_values_rowwise(array)"
   ]
  },
  {
   "cell_type": "markdown",
   "metadata": {},
   "source": [
    "* no se que hace"
   ]
  },
  {
   "cell_type": "code",
   "execution_count": 436,
   "metadata": {},
   "outputs": [
    {
     "name": "stdout",
     "output_type": "stream",
     "text": [
      "[2]\n"
     ]
    }
   ],
   "source": [
    "import numpy as np\n",
    "a = np.array([1, 3, 7, 1])\n",
    "\n",
    "doublediff = np.diff(np.sign(np.diff(a)))\n",
    "picos = np.where(doublediff == -2)[0] + 1\n",
    "print(picos)"
   ]
  },
  {
   "cell_type": "markdown",
   "metadata": {},
   "source": [
    "* notas"
   ]
  },
  {
   "cell_type": "code",
   "execution_count": 437,
   "metadata": {},
   "outputs": [],
   "source": [
    "comp_array = np.array(compania)\n",
    "#comp_array"
   ]
  },
  {
   "cell_type": "code",
   "execution_count": 438,
   "metadata": {},
   "outputs": [],
   "source": [
    "# todas las row de las columnas 0, 2, -1\n",
    "compania = matriz[:,[0,2,-1]]"
   ]
  },
  {
   "cell_type": "code",
   "execution_count": 439,
   "metadata": {},
   "outputs": [],
   "source": [
    "arr = np.array(compania[:10], dtype= object)"
   ]
  },
  {
   "cell_type": "code",
   "execution_count": 440,
   "metadata": {},
   "outputs": [
    {
     "data": {
      "text/plain": [
       "array([['Reynards Legal Limited', 'created', 0.0],\n",
       "       ['Reynards Legal Limited', 'paid', 0.0],\n",
       "       ['Reynards Legal Limited', 'created', 0.0],\n",
       "       ['Reynards Legal Limited', 'created', 0.0],\n",
       "       ['Reynards Legal Limited', 'created', 2184.0],\n",
       "       ['Reynards Legal Limited', 'calculated', 0.0],\n",
       "       ['Reynards Legal Limited', 'cancelled', 0.0],\n",
       "       ['Reynards Legal Limited', 'cancelled', 2184.0],\n",
       "       ['Just Costs Solicitors Limited', 'created', 0.0],\n",
       "       ['Reynards Legal Limited', 'calculated', 0.0]], dtype=object)"
      ]
     },
     "execution_count": 440,
     "metadata": {},
     "output_type": "execute_result"
    }
   ],
   "source": [
    "arr"
   ]
  },
  {
   "cell_type": "code",
   "execution_count": 441,
   "metadata": {},
   "outputs": [],
   "source": [
    "arr = np.random.randint(1,4, size=6)"
   ]
  },
  {
   "cell_type": "code",
   "execution_count": 442,
   "metadata": {},
   "outputs": [],
   "source": [
    "arr = np.array(compania)\n",
    "#arr"
   ]
  },
  {
   "cell_type": "markdown",
   "metadata": {},
   "source": [
    "https://github.com/datasciencebrazil/exercicios-numpy/blob/master/exercicios_numpy.ipynb"
   ]
  },
  {
   "cell_type": "code",
   "execution_count": 443,
   "metadata": {},
   "outputs": [],
   "source": [
    "matrix = np.matrix('2 2 1; 7 7 1; 11 12 1')\n",
    "array = np.array(matrix)"
   ]
  },
  {
   "cell_type": "code",
   "execution_count": 444,
   "metadata": {},
   "outputs": [
    {
     "data": {
      "text/plain": [
       "array([[ 2,  2,  1],\n",
       "       [ 7,  7,  1],\n",
       "       [11, 12,  1]])"
      ]
     },
     "execution_count": 444,
     "metadata": {},
     "output_type": "execute_result"
    }
   ],
   "source": [
    "array"
   ]
  },
  {
   "cell_type": "markdown",
   "metadata": {},
   "source": [
    "* construyendo una matriz pyhton a traves de la iteracion  \n",
    "\n",
    "*No se que hace"
   ]
  },
  {
   "cell_type": "code",
   "execution_count": 455,
   "metadata": {},
   "outputs": [],
   "source": [
    "pos_vec = np.array([7,0,0])"
   ]
  },
  {
   "cell_type": "code",
   "execution_count": 458,
   "metadata": {},
   "outputs": [],
   "source": [
    "def delta_matrix(pos_vec):\n",
    "    build=[]\n",
    "    for i in pos_vec:\n",
    "        build.append(i+pos_vec)\n",
    "    return np.array(build)"
   ]
  },
  {
   "cell_type": "code",
   "execution_count": 459,
   "metadata": {},
   "outputs": [
    {
     "data": {
      "text/plain": [
       "array([[14,  7,  7],\n",
       "       [ 7,  0,  0],\n",
       "       [ 7,  0,  0]])"
      ]
     },
     "execution_count": 459,
     "metadata": {},
     "output_type": "execute_result"
    }
   ],
   "source": [
    "delta_matrix(pos_vec)"
   ]
  },
  {
   "cell_type": "markdown",
   "metadata": {},
   "source": [
    "* otro ejercicio de generacion matrices"
   ]
  },
  {
   "cell_type": "code",
   "execution_count": 465,
   "metadata": {},
   "outputs": [],
   "source": [
    "pos_vec2 = ['a','b','c']"
   ]
  },
  {
   "cell_type": "code",
   "execution_count": 466,
   "metadata": {},
   "outputs": [],
   "source": [
    "pos_vec = ['b','b','b']"
   ]
  },
  {
   "cell_type": "code",
   "execution_count": 467,
   "metadata": {},
   "outputs": [],
   "source": [
    "def delta_matrix2(pos_vec2):\n",
    "    return np.array([pos_vec for i in pos_vec2 ])"
   ]
  },
  {
   "cell_type": "code",
   "execution_count": 468,
   "metadata": {},
   "outputs": [
    {
     "data": {
      "text/plain": [
       "array([['b', 'b', 'b'],\n",
       "       ['b', 'b', 'b'],\n",
       "       ['b', 'b', 'b']], dtype='<U1')"
      ]
     },
     "execution_count": 468,
     "metadata": {},
     "output_type": "execute_result"
    }
   ],
   "source": [
    "delta_matrix2(pos_vec2)"
   ]
  },
  {
   "cell_type": "markdown",
   "metadata": {},
   "source": [
    "*  esta funcion suma el elemento derecho y el izquierdo de cada row, \n",
    "* luego recorre la matriz y suma ese elemento a cada uno de los items"
   ]
  },
  {
   "cell_type": "code",
   "execution_count": 484,
   "metadata": {},
   "outputs": [],
   "source": [
    "matrix = np.matrix('2 2 1; 7 7 1; 11 12 1')\n",
    "arr_red = np.array(matrix)"
   ]
  },
  {
   "cell_type": "code",
   "execution_count": 485,
   "metadata": {},
   "outputs": [
    {
     "data": {
      "text/plain": [
       "3"
      ]
     },
     "execution_count": 485,
     "metadata": {},
     "output_type": "execute_result"
    }
   ],
   "source": [
    "height"
   ]
  },
  {
   "cell_type": "code",
   "execution_count": 486,
   "metadata": {},
   "outputs": [],
   "source": [
    "# esta funcion suma el elemento derecho y el izquierdo de cada row, \n",
    "# luego recorre la matriz y suma ese elemento a cada uno de los items"
   ]
  },
  {
   "cell_type": "code",
   "execution_count": 487,
   "metadata": {},
   "outputs": [],
   "source": [
    "def media(arr_red):\n",
    "    subtracted = np.ones_like(arr_red)\n",
    "    height, width = arr_red.shape\n",
    "    for row_no, row in enumerate(arr_red):   # keep the row number using enumerate\n",
    "        left, right = row[0], row[-1]      # you need the first and last value of the ROW!\n",
    "        average = (left + right) / 2.0\n",
    "        total = (left + right)\n",
    "        # Also use enumerate in the inner loop\n",
    "        for col_no, element in enumerate(row):\n",
    "            subtracted[row_no, col_no] = element + total\n",
    "    return(subtracted)"
   ]
  },
  {
   "cell_type": "code",
   "execution_count": 488,
   "metadata": {},
   "outputs": [
    {
     "data": {
      "text/plain": [
       "array([[ 5,  5,  4],\n",
       "       [15, 15,  9],\n",
       "       [23, 24, 13]])"
      ]
     },
     "execution_count": 488,
     "metadata": {},
     "output_type": "execute_result"
    }
   ],
   "source": [
    "media(arr_red)"
   ]
  },
  {
   "cell_type": "markdown",
   "metadata": {},
   "source": [
    "* calculo frecuencia"
   ]
  },
  {
   "cell_type": "markdown",
   "metadata": {},
   "source": [
    "* forma1"
   ]
  },
  {
   "cell_type": "code",
   "execution_count": 490,
   "metadata": {},
   "outputs": [],
   "source": [
    "import numpy as np\n",
    "x = np.array([1,1,1,2,2,2,5,25,1,1])\n",
    "y = np.bincount(x)\n",
    "ii = np.nonzero(y)[0]\n",
    "frecuencia = list(zip(ii, y[ii]))"
   ]
  },
  {
   "cell_type": "code",
   "execution_count": 491,
   "metadata": {},
   "outputs": [
    {
     "data": {
      "text/plain": [
       "[(1, 5), (2, 3), (5, 1), (25, 1)]"
      ]
     },
     "execution_count": 491,
     "metadata": {},
     "output_type": "execute_result"
    }
   ],
   "source": [
    "frecuencia # del elemento 1 tenemos 5, del 2 tenemos 3"
   ]
  },
  {
   "cell_type": "code",
   "execution_count": 494,
   "metadata": {},
   "outputs": [
    {
     "data": {
      "text/plain": [
       "array([[ 1,  2,  5, 25],\n",
       "       [ 5,  3,  1,  1]], dtype=int64)"
      ]
     },
     "execution_count": 494,
     "metadata": {},
     "output_type": "execute_result"
    }
   ],
   "source": [
    "np.vstack(frecuencia).T # otra forma de verlo"
   ]
  },
  {
   "cell_type": "markdown",
   "metadata": {},
   "source": [
    "* forma2"
   ]
  },
  {
   "cell_type": "code",
   "execution_count": 495,
   "metadata": {},
   "outputs": [
    {
     "name": "stdout",
     "output_type": "stream",
     "text": [
      "[['calculated' 2]\n",
      " ['cancelled' 9]\n",
      " ['created' 88]\n",
      " ['paid' 1]]\n"
     ]
    }
   ],
   "source": [
    "x = np.array(arr[:,[1]])\n",
    "unique, counts = np.unique(x, return_counts = True)\n",
    "print(np.asarray((unique, counts)).T)"
   ]
  },
  {
   "cell_type": "code",
   "execution_count": 293,
   "metadata": {},
   "outputs": [
    {
     "name": "stdout",
     "output_type": "stream",
     "text": [
      "[['Just Costs Solicitors Limited' 90]\n",
      " ['Milestone Claims Limited' 1]\n",
      " ['Reynards Legal Limited' 9]\n",
      " ['calculated' 2]\n",
      " ['cancelled' 9]\n",
      " ['created' 88]\n",
      " ['paid' 1]]\n"
     ]
    }
   ],
   "source": [
    "x = np.array(arr[:,[1,0]])\n",
    "unique, counts = np.unique(x, return_counts = True)\n",
    "print(np.asarray((unique, counts)).T)"
   ]
  },
  {
   "cell_type": "markdown",
   "metadata": {},
   "source": [
    "* otra forma de contr valores"
   ]
  },
  {
   "cell_type": "code",
   "execution_count": 319,
   "metadata": {},
   "outputs": [],
   "source": [
    "def unique(a):\n",
    "    unique, counts = np.unique(a, return_counts=True)\n",
    "    return np.asarray((unique, counts)).T\n",
    "\n",
    "def unique_count(a):\n",
    "    \n",
    "    unique, inverse = np.unique(a, return_inverse=True)\n",
    "    count = np.zeros(len(unique), np.int)\n",
    "    np.add.at(count, inverse, 1)\n",
    "    result.append(np.vstack((unique, count)).T)\n",
    "    return result"
   ]
  },
  {
   "cell_type": "code",
   "execution_count": 496,
   "metadata": {},
   "outputs": [
    {
     "data": {
      "text/plain": [
       "[array([['Just Costs Solicitors Limited', '90'],\n",
       "        ['Milestone Claims Limited', '1'],\n",
       "        ['Reynards Legal Limited', '9'],\n",
       "        ['calculated', '2'],\n",
       "        ['cancelled', '9'],\n",
       "        ['created', '88'],\n",
       "        ['paid', '1']], dtype='<U29'),\n",
       " array([['Just Costs Solicitors Limited', '90'],\n",
       "        ['Milestone Claims Limited', '1'],\n",
       "        ['Reynards Legal Limited', '9'],\n",
       "        ['calculated', '2'],\n",
       "        ['cancelled', '9'],\n",
       "        ['created', '88'],\n",
       "        ['paid', '1']], dtype='<U29'),\n",
       " array([['Just Costs Solicitors Limited', '90'],\n",
       "        ['Milestone Claims Limited', '1'],\n",
       "        ['Reynards Legal Limited', '9'],\n",
       "        ['calculated', '2'],\n",
       "        ['cancelled', '9'],\n",
       "        ['created', '88'],\n",
       "        ['paid', '1']], dtype='<U29'),\n",
       " array([[1, 2],\n",
       "        [3, 1],\n",
       "        [7, 1]])]"
      ]
     },
     "execution_count": 496,
     "metadata": {},
     "output_type": "execute_result"
    }
   ],
   "source": [
    "unique_count(a)"
   ]
  },
  {
   "cell_type": "code",
   "execution_count": 499,
   "metadata": {},
   "outputs": [],
   "source": [
    "a = x.tolist()\n",
    "#a"
   ]
  },
  {
   "cell_type": "code",
   "execution_count": 323,
   "metadata": {},
   "outputs": [
    {
     "data": {
      "text/plain": [
       "[array([['Just Costs Solicitors Limited', '90'],\n",
       "        ['Milestone Claims Limited', '1'],\n",
       "        ['Reynards Legal Limited', '9'],\n",
       "        ['calculated', '2'],\n",
       "        ['cancelled', '9'],\n",
       "        ['created', '88'],\n",
       "        ['paid', '1']], dtype='<U29'),\n",
       " array([['Just Costs Solicitors Limited', '90'],\n",
       "        ['Milestone Claims Limited', '1'],\n",
       "        ['Reynards Legal Limited', '9'],\n",
       "        ['calculated', '2'],\n",
       "        ['cancelled', '9'],\n",
       "        ['created', '88'],\n",
       "        ['paid', '1']], dtype='<U29'),\n",
       " array([['Just Costs Solicitors Limited', '90'],\n",
       "        ['Milestone Claims Limited', '1'],\n",
       "        ['Reynards Legal Limited', '9'],\n",
       "        ['calculated', '2'],\n",
       "        ['cancelled', '9'],\n",
       "        ['created', '88'],\n",
       "        ['paid', '1']], dtype='<U29')]"
      ]
     },
     "execution_count": 323,
     "metadata": {},
     "output_type": "execute_result"
    }
   ],
   "source": [
    "unique_count(a)"
   ]
  },
  {
   "cell_type": "code",
   "execution_count": 502,
   "metadata": {},
   "outputs": [],
   "source": [
    "# arr[:9]"
   ]
  },
  {
   "cell_type": "code",
   "execution_count": 503,
   "metadata": {},
   "outputs": [],
   "source": [
    "# keys"
   ]
  },
  {
   "cell_type": "markdown",
   "metadata": {},
   "source": [
    "* forma de sumar dos columas"
   ]
  },
  {
   "cell_type": "code",
   "execution_count": 517,
   "metadata": {},
   "outputs": [
    {
     "data": {
      "text/plain": [
       "matrix([[ 1,  2,  3,  4,  5],\n",
       "        [ 6,  7,  8,  9, 10],\n",
       "        [11, 12, 13, 14, 15]])"
      ]
     },
     "execution_count": 517,
     "metadata": {},
     "output_type": "execute_result"
    }
   ],
   "source": [
    "a = np.matrix('1 2 3 4 5; 6 7 8 9 10; 11 12 13 14 15')\n",
    "a"
   ]
  },
  {
   "cell_type": "code",
   "execution_count": 518,
   "metadata": {},
   "outputs": [
    {
     "data": {
      "text/plain": [
       "matrix([[ 1],\n",
       "        [ 6],\n",
       "        [11]])"
      ]
     },
     "execution_count": 518,
     "metadata": {},
     "output_type": "execute_result"
    }
   ],
   "source": [
    "xs = a[:,:1]\n",
    "ys = a[:,3:4]\n",
    "xs"
   ]
  },
  {
   "cell_type": "code",
   "execution_count": 519,
   "metadata": {},
   "outputs": [
    {
     "data": {
      "text/plain": [
       "matrix([[ 4],\n",
       "        [ 9],\n",
       "        [14]])"
      ]
     },
     "execution_count": 519,
     "metadata": {},
     "output_type": "execute_result"
    }
   ],
   "source": [
    "ys"
   ]
  },
  {
   "cell_type": "code",
   "execution_count": 520,
   "metadata": {},
   "outputs": [],
   "source": [
    "import math\n",
    "def distance(xs, ys):\n",
    "    n = len(xs)\n",
    "    \n",
    "    for i in range(n):\n",
    "        a = xs+ys\n",
    "    return a"
   ]
  },
  {
   "cell_type": "code",
   "execution_count": 521,
   "metadata": {},
   "outputs": [
    {
     "data": {
      "text/plain": [
       "matrix([[ 5],\n",
       "        [15],\n",
       "        [25]])"
      ]
     },
     "execution_count": 521,
     "metadata": {},
     "output_type": "execute_result"
    }
   ],
   "source": [
    "distance(xs, ys)"
   ]
  },
  {
   "cell_type": "code",
   "execution_count": null,
   "metadata": {},
   "outputs": [],
   "source": [
    "print(np.amax(a, axis=1)) #axis =0\n",
    "print(np.amax(compania[:,-1]))\n",
    "print(np.amin(compania[:,-1]))"
   ]
  },
  {
   "cell_type": "markdown",
   "metadata": {},
   "source": [
    "* calculo del percentil de una columna"
   ]
  },
  {
   "cell_type": "code",
   "execution_count": 281,
   "metadata": {},
   "outputs": [
    {
     "name": "stdout",
     "output_type": "stream",
     "text": [
      "2184.0\n"
     ]
    }
   ],
   "source": [
    "print(np.percentile(compania[:,-1], 90))"
   ]
  },
  {
   "cell_type": "markdown",
   "metadata": {},
   "source": [
    "* info varias"
   ]
  },
  {
   "cell_type": "code",
   "execution_count": 524,
   "metadata": {},
   "outputs": [
    {
     "data": {
      "text/plain": [
       "{'int': [numpy.int8, numpy.int16, numpy.int32, numpy.int64],\n",
       " 'uint': [numpy.uint8, numpy.uint16, numpy.uint32, numpy.uint64],\n",
       " 'float': [numpy.float16, numpy.float32, numpy.float64],\n",
       " 'complex': [numpy.complex64, numpy.complex128],\n",
       " 'others': [bool, object, bytes, str, numpy.void]}"
      ]
     },
     "execution_count": 524,
     "metadata": {},
     "output_type": "execute_result"
    }
   ],
   "source": [
    "np.sctypes"
   ]
  },
  {
   "cell_type": "code",
   "execution_count": 525,
   "metadata": {},
   "outputs": [
    {
     "data": {
      "text/plain": [
       "{'data': (2325855990400, False),\n",
       " 'strides': (8, 800),\n",
       " 'descr': [('', '|O')],\n",
       " 'typestr': '|O',\n",
       " 'shape': (100, 3),\n",
       " 'version': 3}"
      ]
     },
     "execution_count": 525,
     "metadata": {},
     "output_type": "execute_result"
    }
   ],
   "source": [
    "comp_array.__array_interface__"
   ]
  },
  {
   "cell_type": "code",
   "execution_count": 526,
   "metadata": {},
   "outputs": [
    {
     "data": {
      "text/plain": [
       "2325855990400"
      ]
     },
     "execution_count": 526,
     "metadata": {},
     "output_type": "execute_result"
    }
   ],
   "source": [
    "comp_array[:2].__array_interface__['data'][0]"
   ]
  },
  {
   "cell_type": "code",
   "execution_count": 527,
   "metadata": {},
   "outputs": [
    {
     "name": "stdout",
     "output_type": "stream",
     "text": [
      "         3 function calls in 0.000 seconds\n",
      "\n",
      "   Ordered by: standard name\n",
      "\n",
      "   ncalls  tottime  percall  cumtime  percall filename:lineno(function)\n",
      "        1    0.000    0.000    0.000    0.000 <string>:1(<module>)\n",
      "        1    0.000    0.000    0.000    0.000 {built-in method builtins.exec}\n",
      "        1    0.000    0.000    0.000    0.000 {method 'disable' of '_lsprof.Profiler' objects}\n",
      "\n",
      "\n"
     ]
    }
   ],
   "source": [
    "import cProfile\n",
    "import re\n",
    "\n",
    "cProfile.run('comp_array *= 2')"
   ]
  },
  {
   "cell_type": "markdown",
   "metadata": {},
   "source": [
    "* form de ordenar valores de una array"
   ]
  },
  {
   "cell_type": "code",
   "execution_count": 529,
   "metadata": {},
   "outputs": [
    {
     "data": {
      "text/plain": [
       "array([4, 3, 1], dtype=int64)"
      ]
     },
     "execution_count": 529,
     "metadata": {},
     "output_type": "execute_result"
    }
   ],
   "source": [
    "arr = np.array([1, 3, 2, 4, 5])\n",
    "ordeno = arr.argsort()[-3:][::-1]\n",
    "ordeno"
   ]
  },
  {
   "cell_type": "code",
   "execution_count": null,
   "metadata": {},
   "outputs": [],
   "source": []
  }
 ],
 "metadata": {
  "kernelspec": {
   "display_name": "Python 3",
   "language": "python",
   "name": "python3"
  },
  "language_info": {
   "codemirror_mode": {
    "name": "ipython",
    "version": 3
   },
   "file_extension": ".py",
   "mimetype": "text/x-python",
   "name": "python",
   "nbconvert_exporter": "python",
   "pygments_lexer": "ipython3",
   "version": "3.7.1"
  }
 },
 "nbformat": 4,
 "nbformat_minor": 2
}
