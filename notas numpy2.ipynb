{
 "cells": [
  {
   "cell_type": "code",
   "execution_count": 423,
   "metadata": {},
   "outputs": [],
   "source": [
    "import csv\n",
    "import numpy as np\n",
    "import pandas as pd\n"
   ]
  },
  {
   "cell_type": "code",
   "execution_count": null,
   "metadata": {},
   "outputs": [],
   "source": []
  },
  {
   "cell_type": "code",
   "execution_count": 424,
   "metadata": {},
   "outputs": [
    {
     "name": "stdout",
     "output_type": "stream",
     "text": [
      "['company_name', 'id', 'reason_table', 'claim_reference', 'claim_type', 'claim_open_date', 'disbursement_status', 'disbursement_created_date', 'amount']\n",
      "['Reynards Legal Limited', '2', 'created', 'NULL', 'NULL', 'NULL', 'NULL', 'NULL', '0']\n",
      "['Reynards Legal Limited', '3', 'paid', 'NULL', 'NULL', 'NULL', 'NULL', 'NULL', '0']\n",
      "['Reynards Legal Limited', '4', 'created', 'CW101008', 'CWI', '03/10/2018', 'NULL', 'NULL', '0']\n",
      "['Reynards Legal Limited', '5', 'created', 'CW101008', 'CWI', '03/10/2018', 'Cancelled', '03/10/2018', '0']\n",
      "['Reynards Legal Limited', '6', 'created', 'CW101008', 'CWI', '03/10/2018', 'Cancelled', '03/10/2018', '2184']\n",
      "['Reynards Legal Limited', '7', 'calculated', 'CW101008', 'CWI', '03/10/2018', 'NULL', 'NULL', '0']\n",
      "['Reynards Legal Limited', '8', 'cancelled', 'CW101008', 'CWI', '03/10/2018', 'Cancelled', '03/10/2018', '0']\n",
      "['Reynards Legal Limited', '9', 'cancelled', 'CW101008', 'CWI', '03/10/2018', 'Cancelled', '03/10/2018', '2184']\n",
      "['Just Costs Solicitors Limited', '10', 'created', 'NULL', 'NULL', 'NULL', 'NULL', 'NULL', '0']\n",
      "['Reynards Legal Limited', '11', 'calculated', 'CW101008', 'CWI', '03/10/2018', 'NULL', 'NULL', '0']\n",
      "['Milestone Claims Limited', '12', 'created', 'NULL', 'NULL', 'NULL', 'NULL', 'NULL', '0']\n",
      "['Just Costs Solicitors Limited', '13', 'created', '179600.cwi', 'CWI', '02/11/2018', 'NULL', 'NULL', '0']\n",
      "['Just Costs Solicitors Limited', '14', 'created', '179600.cwi', 'CWI', '02/11/2018', 'Active', '02/11/2018', '0']\n",
      "['Just Costs Solicitors Limited', '15', 'created', '179600.cwi', 'CWI', '02/11/2018', 'Active', '02/11/2018', '669.6']\n",
      "['Just Costs Solicitors Limited', '16', 'created', '179600.cwi', 'CWI', '02/11/2018', 'Active', '02/11/2018', '0']\n",
      "['Just Costs Solicitors Limited', '17', 'created', '179600.cwi', 'CWI', '02/11/2018', 'Active', '02/11/2018', '1494']\n",
      "['Just Costs Solicitors Limited', '18', 'created', '179600.cwi', 'CWI', '02/11/2018', 'Active', '02/11/2018', '0']\n",
      "['Just Costs Solicitors Limited', '19', 'created', '179600.cwi', 'CWI', '02/11/2018', 'Active', '02/11/2018', '2184']\n",
      "['Just Costs Solicitors Limited', '20', 'created', '179618.cwi', 'CWI', '02/11/2018', 'NULL', 'NULL', '0']\n",
      "['Just Costs Solicitors Limited', '21', 'created', '179618.cwi', 'CWI', '02/11/2018', 'Active', '02/11/2018', '0']\n",
      "['Just Costs Solicitors Limited', '22', 'created', '179618.cwi', 'CWI', '02/11/2018', 'Active', '02/11/2018', '2184']\n",
      "['Just Costs Solicitors Limited', '23', 'created', '179618.cwi', 'CWI', '02/11/2018', 'Active', '02/11/2018', '0']\n",
      "['Just Costs Solicitors Limited', '24', 'created', '179618.cwi', 'CWI', '02/11/2018', 'Active', '02/11/2018', '669.6']\n",
      "['Just Costs Solicitors Limited', '25', 'created', '179618.cwi', 'CWI', '02/11/2018', 'Active', '02/11/2018', '0']\n",
      "['Just Costs Solicitors Limited', '26', 'created', '179618.cwi', 'CWI', '02/11/2018', 'Active', '02/11/2018', '1494']\n",
      "['Just Costs Solicitors Limited', '27', 'created', '179617.cwi', 'CWI', '02/11/2018', 'NULL', 'NULL', '0']\n",
      "['Just Costs Solicitors Limited', '28', 'created', '179617.cwi', 'CWI', '02/11/2018', 'Active', '02/11/2018', '0']\n",
      "['Just Costs Solicitors Limited', '29', 'created', '179617.cwi', 'CWI', '02/11/2018', 'Active', '02/11/2018', '2184']\n",
      "['Just Costs Solicitors Limited', '30', 'created', '179617.cwi', 'CWI', '02/11/2018', 'Active', '02/11/2018', '0']\n",
      "['Just Costs Solicitors Limited', '31', 'created', '179617.cwi', 'CWI', '02/11/2018', 'Active', '02/11/2018', '669.6']\n",
      "['Just Costs Solicitors Limited', '32', 'created', '179617.cwi', 'CWI', '02/11/2018', 'Active', '02/11/2018', '0']\n",
      "['Just Costs Solicitors Limited', '33', 'created', '179617.cwi', 'CWI', '02/11/2018', 'Active', '02/11/2018', '1494']\n",
      "['Just Costs Solicitors Limited', '34', 'created', '179612.cwi', 'CWI', '02/11/2018', 'NULL', 'NULL', '0']\n",
      "['Just Costs Solicitors Limited', '35', 'created', '179599.cwi', 'CWI', '02/11/2018', 'NULL', 'NULL', '0']\n",
      "['Just Costs Solicitors Limited', '36', 'created', '179599.cwi', 'CWI', '02/11/2018', 'Active', '02/11/2018', '0']\n",
      "['Just Costs Solicitors Limited', '37', 'created', '179599.cwi', 'CWI', '02/11/2018', 'Active', '02/11/2018', '2184']\n",
      "['Just Costs Solicitors Limited', '38', 'created', '179599.cwi', 'CWI', '02/11/2018', 'Active', '02/11/2018', '0']\n",
      "['Just Costs Solicitors Limited', '39', 'created', '179599.cwi', 'CWI', '02/11/2018', 'Active', '02/11/2018', '669.6']\n",
      "['Just Costs Solicitors Limited', '40', 'created', '179599.cwi', 'CWI', '02/11/2018', 'Active', '02/11/2018', '0']\n",
      "['Just Costs Solicitors Limited', '41', 'created', '179599.cwi', 'CWI', '02/11/2018', 'Active', '02/11/2018', '1494']\n",
      "['Just Costs Solicitors Limited', '42', 'created', '179623.cwi', 'CWI', '02/11/2018', 'NULL', 'NULL', '0']\n",
      "['Just Costs Solicitors Limited', '43', 'created', '179623.cwi', 'CWI', '02/11/2018', 'Active', '02/11/2018', '0']\n",
      "['Just Costs Solicitors Limited', '44', 'created', '179623.cwi', 'CWI', '02/11/2018', 'Active', '02/11/2018', '2184']\n",
      "['Just Costs Solicitors Limited', '45', 'created', '179623.cwi', 'CWI', '02/11/2018', 'Active', '02/11/2018', '0']\n",
      "['Just Costs Solicitors Limited', '46', 'created', '179623.cwi', 'CWI', '02/11/2018', 'Active', '02/11/2018', '669.6']\n",
      "['Just Costs Solicitors Limited', '47', 'created', '179623.cwi', 'CWI', '02/11/2018', 'Active', '02/11/2018', '0']\n",
      "['Just Costs Solicitors Limited', '48', 'created', '179623.cwi', 'CWI', '02/11/2018', 'Active', '02/11/2018', '1494']\n",
      "['Just Costs Solicitors Limited', '49', 'created', '179626.cwi', 'CWI', '02/11/2018', 'NULL', 'NULL', '0']\n",
      "['Just Costs Solicitors Limited', '50', 'created', '179626.cwi', 'CWI', '02/11/2018', 'Active', '02/11/2018', '0']\n",
      "['Just Costs Solicitors Limited', '51', 'created', '179626.cwi', 'CWI', '02/11/2018', 'Active', '02/11/2018', '2184']\n",
      "['Just Costs Solicitors Limited', '52', 'created', '179626.cwi', 'CWI', '02/11/2018', 'Active', '02/11/2018', '0']\n",
      "['Just Costs Solicitors Limited', '53', 'created', '179626.cwi', 'CWI', '02/11/2018', 'Active', '02/11/2018', '669.6']\n",
      "['Just Costs Solicitors Limited', '54', 'created', '179626.cwi', 'CWI', '02/11/2018', 'Active', '02/11/2018', '0']\n",
      "['Just Costs Solicitors Limited', '55', 'created', '179626.cwi', 'CWI', '02/11/2018', 'Active', '02/11/2018', '1494']\n",
      "['Just Costs Solicitors Limited', '56', 'created', '179622.cwi', 'CWI', '02/11/2018', 'NULL', 'NULL', '0']\n",
      "['Just Costs Solicitors Limited', '57', 'created', '179622.cwi', 'CWI', '02/11/2018', 'Cancelled', '02/11/2018', '0']\n",
      "['Just Costs Solicitors Limited', '58', 'created', '179622.cwi', 'CWI', '02/11/2018', 'Cancelled', '02/11/2018', '2184']\n",
      "['Just Costs Solicitors Limited', '59', 'created', '179622.cwi', 'CWI', '02/11/2018', 'Cancelled', '02/11/2018', '0']\n",
      "['Just Costs Solicitors Limited', '60', 'created', '179622.cwi', 'CWI', '02/11/2018', 'Cancelled', '02/11/2018', '669.6']\n",
      "['Just Costs Solicitors Limited', '61', 'created', '179622.cwi', 'CWI', '02/11/2018', 'Cancelled', '02/11/2018', '0']\n",
      "['Just Costs Solicitors Limited', '62', 'created', '179622.cwi', 'CWI', '02/11/2018', 'Cancelled', '02/11/2018', '1494']\n",
      "['Just Costs Solicitors Limited', '63', 'created', '179625.cwi', 'CWI', '02/11/2018', 'NULL', 'NULL', '0']\n",
      "['Just Costs Solicitors Limited', '64', 'created', '179625.cwi', 'CWI', '02/11/2018', 'Active', '02/11/2018', '0']\n",
      "['Just Costs Solicitors Limited', '65', 'created', '179625.cwi', 'CWI', '02/11/2018', 'Active', '02/11/2018', '2184']\n",
      "['Just Costs Solicitors Limited', '66', 'created', '179625.cwi', 'CWI', '02/11/2018', 'Active', '02/11/2018', '0']\n",
      "['Just Costs Solicitors Limited', '67', 'created', '179625.cwi', 'CWI', '02/11/2018', 'Active', '02/11/2018', '669.6']\n",
      "['Just Costs Solicitors Limited', '68', 'created', '179625.cwi', 'CWI', '02/11/2018', 'Active', '02/11/2018', '0']\n",
      "['Just Costs Solicitors Limited', '69', 'created', '179625.cwi', 'CWI', '02/11/2018', 'Active', '02/11/2018', '1494']\n",
      "['Just Costs Solicitors Limited', '70', 'created', '179621.cwi', 'CWI', '02/11/2018', 'NULL', 'NULL', '0']\n",
      "['Just Costs Solicitors Limited', '71', 'created', '179621.cwi', 'CWI', '02/11/2018', 'Active', '02/11/2018', '0']\n",
      "['Just Costs Solicitors Limited', '72', 'created', '179621.cwi', 'CWI', '02/11/2018', 'Active', '02/11/2018', '2184']\n",
      "['Just Costs Solicitors Limited', '73', 'created', '179621.cwi', 'CWI', '02/11/2018', 'Active', '02/11/2018', '0']\n",
      "['Just Costs Solicitors Limited', '74', 'created', '179621.cwi', 'CWI', '02/11/2018', 'Active', '02/11/2018', '669.6']\n",
      "['Just Costs Solicitors Limited', '75', 'created', '179621.cwi', 'CWI', '02/11/2018', 'Active', '02/11/2018', '0']\n",
      "['Just Costs Solicitors Limited', '76', 'created', '179621.cwi', 'CWI', '02/11/2018', 'Active', '02/11/2018', '1494']\n",
      "['Just Costs Solicitors Limited', '77', 'created', '179624.cwi', 'CWI', '02/11/2018', 'NULL', 'NULL', '0']\n",
      "['Just Costs Solicitors Limited', '78', 'created', '179624.cwi', 'CWI', '02/11/2018', 'Active', '02/11/2018', '0']\n",
      "['Just Costs Solicitors Limited', '79', 'created', '179624.cwi', 'CWI', '02/11/2018', 'Active', '02/11/2018', '2184']\n",
      "['Just Costs Solicitors Limited', '80', 'created', '179624.cwi', 'CWI', '02/11/2018', 'Active', '02/11/2018', '0']\n",
      "['Just Costs Solicitors Limited', '81', 'created', '179624.cwi', 'CWI', '02/11/2018', 'Active', '02/11/2018', '669.6']\n",
      "['Just Costs Solicitors Limited', '82', 'created', '179624.cwi', 'CWI', '02/11/2018', 'Active', '02/11/2018', '0']\n",
      "['Just Costs Solicitors Limited', '83', 'created', '179624.cwi', 'CWI', '02/11/2018', 'Active', '02/11/2018', '1494']\n",
      "['Just Costs Solicitors Limited', '84', 'created', '179598.cwi', 'CWI', '02/11/2018', 'NULL', 'NULL', '0']\n",
      "['Just Costs Solicitors Limited', '85', 'created', '179598.cwi', 'CWI', '02/11/2018', 'Refunded', '02/11/2018', '0']\n",
      "['Just Costs Solicitors Limited', '86', 'created', '179598.cwi', 'CWI', '02/11/2018', 'Refunded', '02/11/2018', '2184']\n",
      "['Just Costs Solicitors Limited', '87', 'created', '179598.cwi', 'CWI', '02/11/2018', 'Refunded', '02/11/2018', '0']\n",
      "['Just Costs Solicitors Limited', '88', 'created', '179598.cwi', 'CWI', '02/11/2018', 'Refunded', '02/11/2018', '669.6']\n",
      "['Just Costs Solicitors Limited', '89', 'created', '179598.cwi', 'CWI', '02/11/2018', 'Refunded', '02/11/2018', '0']\n",
      "['Just Costs Solicitors Limited', '90', 'created', '179598.cwi', 'CWI', '02/11/2018', 'Refunded', '02/11/2018', '1494']\n",
      "['Just Costs Solicitors Limited', '91', 'cancelled', '179622.cwi', 'CWI', '02/11/2018', 'Cancelled', '02/11/2018', '0']\n",
      "['Just Costs Solicitors Limited', '92', 'cancelled', '179622.cwi', 'CWI', '02/11/2018', 'Cancelled', '02/11/2018', '2184']\n",
      "['Just Costs Solicitors Limited', '93', 'cancelled', '179622.cwi', 'CWI', '02/11/2018', 'Cancelled', '02/11/2018', '0']\n",
      "['Just Costs Solicitors Limited', '94', 'cancelled', '179622.cwi', 'CWI', '02/11/2018', 'Cancelled', '02/11/2018', '669.6']\n",
      "['Just Costs Solicitors Limited', '95', 'cancelled', '179622.cwi', 'CWI', '02/11/2018', 'Cancelled', '02/11/2018', '0']\n",
      "['Just Costs Solicitors Limited', '96', 'cancelled', '179622.cwi', 'CWI', '02/11/2018', 'Cancelled', '02/11/2018', '1494']\n",
      "['Just Costs Solicitors Limited', '97', 'cancelled', '179622.cwi', 'CWI', '02/11/2018', 'NULL', 'NULL', '0']\n",
      "['Just Costs Solicitors Limited', '98', 'created', '179611.cwi', 'CWI', '02/11/2018', 'NULL', 'NULL', '0']\n",
      "['Just Costs Solicitors Limited', '99', 'created', '179611.cwi', 'CWI', '02/11/2018', 'Active', '02/11/2018', '0']\n",
      "['Just Costs Solicitors Limited', '100', 'created', '179611.cwi', 'CWI', '02/11/2018', 'Active', '02/11/2018', '2184']\n",
      "['Just Costs Solicitors Limited', '101', 'created', '179611.cwi', 'CWI', '02/11/2018', 'Active', '02/11/2018', '0']\n"
     ]
    }
   ],
   "source": [
    "with open('tabla_reports.csv', newline='') as File:  \n",
    "    reader = csv.reader(File)\n",
    "    for row in reader:\n",
    "        print(row)"
   ]
  },
  {
   "cell_type": "code",
   "execution_count": 425,
   "metadata": {},
   "outputs": [],
   "source": [
    "df = pd.read_csv('tabla_reports.csv', sep=',')\n",
    "datos = df.values"
   ]
  },
  {
   "cell_type": "code",
   "execution_count": 426,
   "metadata": {},
   "outputs": [
    {
     "data": {
      "text/html": [
       "<div>\n",
       "<style scoped>\n",
       "    .dataframe tbody tr th:only-of-type {\n",
       "        vertical-align: middle;\n",
       "    }\n",
       "\n",
       "    .dataframe tbody tr th {\n",
       "        vertical-align: top;\n",
       "    }\n",
       "\n",
       "    .dataframe thead th {\n",
       "        text-align: right;\n",
       "    }\n",
       "</style>\n",
       "<table border=\"1\" class=\"dataframe\">\n",
       "  <thead>\n",
       "    <tr style=\"text-align: right;\">\n",
       "      <th></th>\n",
       "      <th>company_name</th>\n",
       "      <th>id</th>\n",
       "      <th>reason_table</th>\n",
       "      <th>claim_reference</th>\n",
       "      <th>claim_type</th>\n",
       "      <th>claim_open_date</th>\n",
       "      <th>disbursement_status</th>\n",
       "      <th>disbursement_created_date</th>\n",
       "      <th>amount</th>\n",
       "    </tr>\n",
       "  </thead>\n",
       "  <tbody>\n",
       "    <tr>\n",
       "      <th>0</th>\n",
       "      <td>Reynards Legal Limited</td>\n",
       "      <td>2</td>\n",
       "      <td>created</td>\n",
       "      <td>NaN</td>\n",
       "      <td>NaN</td>\n",
       "      <td>NaN</td>\n",
       "      <td>NaN</td>\n",
       "      <td>NaN</td>\n",
       "      <td>0.0</td>\n",
       "    </tr>\n",
       "    <tr>\n",
       "      <th>1</th>\n",
       "      <td>Reynards Legal Limited</td>\n",
       "      <td>3</td>\n",
       "      <td>paid</td>\n",
       "      <td>NaN</td>\n",
       "      <td>NaN</td>\n",
       "      <td>NaN</td>\n",
       "      <td>NaN</td>\n",
       "      <td>NaN</td>\n",
       "      <td>0.0</td>\n",
       "    </tr>\n",
       "    <tr>\n",
       "      <th>2</th>\n",
       "      <td>Reynards Legal Limited</td>\n",
       "      <td>4</td>\n",
       "      <td>created</td>\n",
       "      <td>CW101008</td>\n",
       "      <td>CWI</td>\n",
       "      <td>03/10/2018</td>\n",
       "      <td>NaN</td>\n",
       "      <td>NaN</td>\n",
       "      <td>0.0</td>\n",
       "    </tr>\n",
       "    <tr>\n",
       "      <th>3</th>\n",
       "      <td>Reynards Legal Limited</td>\n",
       "      <td>5</td>\n",
       "      <td>created</td>\n",
       "      <td>CW101008</td>\n",
       "      <td>CWI</td>\n",
       "      <td>03/10/2018</td>\n",
       "      <td>Cancelled</td>\n",
       "      <td>03/10/2018</td>\n",
       "      <td>0.0</td>\n",
       "    </tr>\n",
       "    <tr>\n",
       "      <th>4</th>\n",
       "      <td>Reynards Legal Limited</td>\n",
       "      <td>6</td>\n",
       "      <td>created</td>\n",
       "      <td>CW101008</td>\n",
       "      <td>CWI</td>\n",
       "      <td>03/10/2018</td>\n",
       "      <td>Cancelled</td>\n",
       "      <td>03/10/2018</td>\n",
       "      <td>2184.0</td>\n",
       "    </tr>\n",
       "    <tr>\n",
       "      <th>5</th>\n",
       "      <td>Reynards Legal Limited</td>\n",
       "      <td>7</td>\n",
       "      <td>calculated</td>\n",
       "      <td>CW101008</td>\n",
       "      <td>CWI</td>\n",
       "      <td>03/10/2018</td>\n",
       "      <td>NaN</td>\n",
       "      <td>NaN</td>\n",
       "      <td>0.0</td>\n",
       "    </tr>\n",
       "    <tr>\n",
       "      <th>6</th>\n",
       "      <td>Reynards Legal Limited</td>\n",
       "      <td>8</td>\n",
       "      <td>cancelled</td>\n",
       "      <td>CW101008</td>\n",
       "      <td>CWI</td>\n",
       "      <td>03/10/2018</td>\n",
       "      <td>Cancelled</td>\n",
       "      <td>03/10/2018</td>\n",
       "      <td>0.0</td>\n",
       "    </tr>\n",
       "    <tr>\n",
       "      <th>7</th>\n",
       "      <td>Reynards Legal Limited</td>\n",
       "      <td>9</td>\n",
       "      <td>cancelled</td>\n",
       "      <td>CW101008</td>\n",
       "      <td>CWI</td>\n",
       "      <td>03/10/2018</td>\n",
       "      <td>Cancelled</td>\n",
       "      <td>03/10/2018</td>\n",
       "      <td>2184.0</td>\n",
       "    </tr>\n",
       "    <tr>\n",
       "      <th>8</th>\n",
       "      <td>Just Costs Solicitors Limited</td>\n",
       "      <td>10</td>\n",
       "      <td>created</td>\n",
       "      <td>NaN</td>\n",
       "      <td>NaN</td>\n",
       "      <td>NaN</td>\n",
       "      <td>NaN</td>\n",
       "      <td>NaN</td>\n",
       "      <td>0.0</td>\n",
       "    </tr>\n",
       "    <tr>\n",
       "      <th>9</th>\n",
       "      <td>Reynards Legal Limited</td>\n",
       "      <td>11</td>\n",
       "      <td>calculated</td>\n",
       "      <td>CW101008</td>\n",
       "      <td>CWI</td>\n",
       "      <td>03/10/2018</td>\n",
       "      <td>NaN</td>\n",
       "      <td>NaN</td>\n",
       "      <td>0.0</td>\n",
       "    </tr>\n",
       "  </tbody>\n",
       "</table>\n",
       "</div>"
      ],
      "text/plain": [
       "                    company_name  id reason_table claim_reference claim_type  \\\n",
       "0         Reynards Legal Limited   2      created             NaN        NaN   \n",
       "1         Reynards Legal Limited   3         paid             NaN        NaN   \n",
       "2         Reynards Legal Limited   4      created        CW101008        CWI   \n",
       "3         Reynards Legal Limited   5      created        CW101008        CWI   \n",
       "4         Reynards Legal Limited   6      created        CW101008        CWI   \n",
       "5         Reynards Legal Limited   7   calculated        CW101008        CWI   \n",
       "6         Reynards Legal Limited   8    cancelled        CW101008        CWI   \n",
       "7         Reynards Legal Limited   9    cancelled        CW101008        CWI   \n",
       "8  Just Costs Solicitors Limited  10      created             NaN        NaN   \n",
       "9         Reynards Legal Limited  11   calculated        CW101008        CWI   \n",
       "\n",
       "  claim_open_date disbursement_status disbursement_created_date  amount  \n",
       "0             NaN                 NaN                       NaN     0.0  \n",
       "1             NaN                 NaN                       NaN     0.0  \n",
       "2      03/10/2018                 NaN                       NaN     0.0  \n",
       "3      03/10/2018           Cancelled                03/10/2018     0.0  \n",
       "4      03/10/2018           Cancelled                03/10/2018  2184.0  \n",
       "5      03/10/2018                 NaN                       NaN     0.0  \n",
       "6      03/10/2018           Cancelled                03/10/2018     0.0  \n",
       "7      03/10/2018           Cancelled                03/10/2018  2184.0  \n",
       "8             NaN                 NaN                       NaN     0.0  \n",
       "9      03/10/2018                 NaN                       NaN     0.0  "
      ]
     },
     "execution_count": 426,
     "metadata": {},
     "output_type": "execute_result"
    }
   ],
   "source": [
    "df.head(10)"
   ]
  },
  {
   "cell_type": "code",
   "execution_count": 427,
   "metadata": {},
   "outputs": [],
   "source": [
    "#datos\n"
   ]
  },
  {
   "cell_type": "code",
   "execution_count": 428,
   "metadata": {},
   "outputs": [
    {
     "data": {
      "text/plain": [
       "numpy.ndarray"
      ]
     },
     "execution_count": 428,
     "metadata": {},
     "output_type": "execute_result"
    }
   ],
   "source": [
    "type(datos)"
   ]
  },
  {
   "cell_type": "code",
   "execution_count": 429,
   "metadata": {},
   "outputs": [],
   "source": [
    "# csv = np.genfromtxt ('tabla_reports.csv', delimiter=\",\",dtype = None) # con no tipos"
   ]
  },
  {
   "cell_type": "code",
   "execution_count": 430,
   "metadata": {},
   "outputs": [],
   "source": [
    "csv = np.genfromtxt ('tabla_reports.csv', delimiter=\",\",skip_header=0)"
   ]
  },
  {
   "cell_type": "code",
   "execution_count": 431,
   "metadata": {},
   "outputs": [
    {
     "name": "stdout",
     "output_type": "stream",
     "text": [
      "                     company_name   id reason_table claim_reference  \\\n",
      "0          Reynards Legal Limited    2      created             NaN   \n",
      "1          Reynards Legal Limited    3         paid             NaN   \n",
      "2          Reynards Legal Limited    4      created        CW101008   \n",
      "3          Reynards Legal Limited    5      created        CW101008   \n",
      "4          Reynards Legal Limited    6      created        CW101008   \n",
      "5          Reynards Legal Limited    7   calculated        CW101008   \n",
      "6          Reynards Legal Limited    8    cancelled        CW101008   \n",
      "7          Reynards Legal Limited    9    cancelled        CW101008   \n",
      "8   Just Costs Solicitors Limited   10      created             NaN   \n",
      "9          Reynards Legal Limited   11   calculated        CW101008   \n",
      "10       Milestone Claims Limited   12      created             NaN   \n",
      "11  Just Costs Solicitors Limited   13      created      179600.cwi   \n",
      "12  Just Costs Solicitors Limited   14      created      179600.cwi   \n",
      "13  Just Costs Solicitors Limited   15      created      179600.cwi   \n",
      "14  Just Costs Solicitors Limited   16      created      179600.cwi   \n",
      "15  Just Costs Solicitors Limited   17      created      179600.cwi   \n",
      "16  Just Costs Solicitors Limited   18      created      179600.cwi   \n",
      "17  Just Costs Solicitors Limited   19      created      179600.cwi   \n",
      "18  Just Costs Solicitors Limited   20      created      179618.cwi   \n",
      "19  Just Costs Solicitors Limited   21      created      179618.cwi   \n",
      "20  Just Costs Solicitors Limited   22      created      179618.cwi   \n",
      "21  Just Costs Solicitors Limited   23      created      179618.cwi   \n",
      "22  Just Costs Solicitors Limited   24      created      179618.cwi   \n",
      "23  Just Costs Solicitors Limited   25      created      179618.cwi   \n",
      "24  Just Costs Solicitors Limited   26      created      179618.cwi   \n",
      "25  Just Costs Solicitors Limited   27      created      179617.cwi   \n",
      "26  Just Costs Solicitors Limited   28      created      179617.cwi   \n",
      "27  Just Costs Solicitors Limited   29      created      179617.cwi   \n",
      "28  Just Costs Solicitors Limited   30      created      179617.cwi   \n",
      "29  Just Costs Solicitors Limited   31      created      179617.cwi   \n",
      "..                            ...  ...          ...             ...   \n",
      "70  Just Costs Solicitors Limited   72      created      179621.cwi   \n",
      "71  Just Costs Solicitors Limited   73      created      179621.cwi   \n",
      "72  Just Costs Solicitors Limited   74      created      179621.cwi   \n",
      "73  Just Costs Solicitors Limited   75      created      179621.cwi   \n",
      "74  Just Costs Solicitors Limited   76      created      179621.cwi   \n",
      "75  Just Costs Solicitors Limited   77      created      179624.cwi   \n",
      "76  Just Costs Solicitors Limited   78      created      179624.cwi   \n",
      "77  Just Costs Solicitors Limited   79      created      179624.cwi   \n",
      "78  Just Costs Solicitors Limited   80      created      179624.cwi   \n",
      "79  Just Costs Solicitors Limited   81      created      179624.cwi   \n",
      "80  Just Costs Solicitors Limited   82      created      179624.cwi   \n",
      "81  Just Costs Solicitors Limited   83      created      179624.cwi   \n",
      "82  Just Costs Solicitors Limited   84      created      179598.cwi   \n",
      "83  Just Costs Solicitors Limited   85      created      179598.cwi   \n",
      "84  Just Costs Solicitors Limited   86      created      179598.cwi   \n",
      "85  Just Costs Solicitors Limited   87      created      179598.cwi   \n",
      "86  Just Costs Solicitors Limited   88      created      179598.cwi   \n",
      "87  Just Costs Solicitors Limited   89      created      179598.cwi   \n",
      "88  Just Costs Solicitors Limited   90      created      179598.cwi   \n",
      "89  Just Costs Solicitors Limited   91    cancelled      179622.cwi   \n",
      "90  Just Costs Solicitors Limited   92    cancelled      179622.cwi   \n",
      "91  Just Costs Solicitors Limited   93    cancelled      179622.cwi   \n",
      "92  Just Costs Solicitors Limited   94    cancelled      179622.cwi   \n",
      "93  Just Costs Solicitors Limited   95    cancelled      179622.cwi   \n",
      "94  Just Costs Solicitors Limited   96    cancelled      179622.cwi   \n",
      "95  Just Costs Solicitors Limited   97    cancelled      179622.cwi   \n",
      "96  Just Costs Solicitors Limited   98      created      179611.cwi   \n",
      "97  Just Costs Solicitors Limited   99      created      179611.cwi   \n",
      "98  Just Costs Solicitors Limited  100      created      179611.cwi   \n",
      "99  Just Costs Solicitors Limited  101      created      179611.cwi   \n",
      "\n",
      "   claim_type claim_open_date disbursement_status disbursement_created_date  \\\n",
      "0         NaN             NaN                 NaN                       NaN   \n",
      "1         NaN             NaN                 NaN                       NaN   \n",
      "2         CWI      03/10/2018                 NaN                       NaN   \n",
      "3         CWI      03/10/2018           Cancelled                03/10/2018   \n",
      "4         CWI      03/10/2018           Cancelled                03/10/2018   \n",
      "5         CWI      03/10/2018                 NaN                       NaN   \n",
      "6         CWI      03/10/2018           Cancelled                03/10/2018   \n",
      "7         CWI      03/10/2018           Cancelled                03/10/2018   \n",
      "8         NaN             NaN                 NaN                       NaN   \n",
      "9         CWI      03/10/2018                 NaN                       NaN   \n",
      "10        NaN             NaN                 NaN                       NaN   \n",
      "11        CWI      02/11/2018                 NaN                       NaN   \n",
      "12        CWI      02/11/2018              Active                02/11/2018   \n",
      "13        CWI      02/11/2018              Active                02/11/2018   \n",
      "14        CWI      02/11/2018              Active                02/11/2018   \n",
      "15        CWI      02/11/2018              Active                02/11/2018   \n",
      "16        CWI      02/11/2018              Active                02/11/2018   \n",
      "17        CWI      02/11/2018              Active                02/11/2018   \n",
      "18        CWI      02/11/2018                 NaN                       NaN   \n",
      "19        CWI      02/11/2018              Active                02/11/2018   \n",
      "20        CWI      02/11/2018              Active                02/11/2018   \n",
      "21        CWI      02/11/2018              Active                02/11/2018   \n",
      "22        CWI      02/11/2018              Active                02/11/2018   \n",
      "23        CWI      02/11/2018              Active                02/11/2018   \n",
      "24        CWI      02/11/2018              Active                02/11/2018   \n",
      "25        CWI      02/11/2018                 NaN                       NaN   \n",
      "26        CWI      02/11/2018              Active                02/11/2018   \n",
      "27        CWI      02/11/2018              Active                02/11/2018   \n",
      "28        CWI      02/11/2018              Active                02/11/2018   \n",
      "29        CWI      02/11/2018              Active                02/11/2018   \n",
      "..        ...             ...                 ...                       ...   \n",
      "70        CWI      02/11/2018              Active                02/11/2018   \n",
      "71        CWI      02/11/2018              Active                02/11/2018   \n",
      "72        CWI      02/11/2018              Active                02/11/2018   \n",
      "73        CWI      02/11/2018              Active                02/11/2018   \n",
      "74        CWI      02/11/2018              Active                02/11/2018   \n",
      "75        CWI      02/11/2018                 NaN                       NaN   \n",
      "76        CWI      02/11/2018              Active                02/11/2018   \n",
      "77        CWI      02/11/2018              Active                02/11/2018   \n",
      "78        CWI      02/11/2018              Active                02/11/2018   \n",
      "79        CWI      02/11/2018              Active                02/11/2018   \n",
      "80        CWI      02/11/2018              Active                02/11/2018   \n",
      "81        CWI      02/11/2018              Active                02/11/2018   \n",
      "82        CWI      02/11/2018                 NaN                       NaN   \n",
      "83        CWI      02/11/2018            Refunded                02/11/2018   \n",
      "84        CWI      02/11/2018            Refunded                02/11/2018   \n",
      "85        CWI      02/11/2018            Refunded                02/11/2018   \n",
      "86        CWI      02/11/2018            Refunded                02/11/2018   \n",
      "87        CWI      02/11/2018            Refunded                02/11/2018   \n",
      "88        CWI      02/11/2018            Refunded                02/11/2018   \n",
      "89        CWI      02/11/2018           Cancelled                02/11/2018   \n",
      "90        CWI      02/11/2018           Cancelled                02/11/2018   \n",
      "91        CWI      02/11/2018           Cancelled                02/11/2018   \n",
      "92        CWI      02/11/2018           Cancelled                02/11/2018   \n",
      "93        CWI      02/11/2018           Cancelled                02/11/2018   \n",
      "94        CWI      02/11/2018           Cancelled                02/11/2018   \n",
      "95        CWI      02/11/2018                 NaN                       NaN   \n",
      "96        CWI      02/11/2018                 NaN                       NaN   \n",
      "97        CWI      02/11/2018              Active                02/11/2018   \n",
      "98        CWI      02/11/2018              Active                02/11/2018   \n",
      "99        CWI      02/11/2018              Active                02/11/2018   \n",
      "\n",
      "    amount  \n",
      "0      0.0  \n",
      "1      0.0  \n",
      "2      0.0  \n",
      "3      0.0  \n",
      "4   2184.0  \n",
      "5      0.0  \n",
      "6      0.0  \n",
      "7   2184.0  \n",
      "8      0.0  \n",
      "9      0.0  \n",
      "10     0.0  \n",
      "11     0.0  \n",
      "12     0.0  \n",
      "13   669.6  \n",
      "14     0.0  \n",
      "15  1494.0  \n",
      "16     0.0  \n",
      "17  2184.0  \n",
      "18     0.0  \n",
      "19     0.0  \n",
      "20  2184.0  \n",
      "21     0.0  \n",
      "22   669.6  \n",
      "23     0.0  \n",
      "24  1494.0  \n",
      "25     0.0  \n",
      "26     0.0  \n",
      "27  2184.0  \n",
      "28     0.0  \n",
      "29   669.6  \n",
      "..     ...  \n",
      "70  2184.0  \n",
      "71     0.0  \n",
      "72   669.6  \n",
      "73     0.0  \n",
      "74  1494.0  \n",
      "75     0.0  \n",
      "76     0.0  \n",
      "77  2184.0  \n",
      "78     0.0  \n",
      "79   669.6  \n",
      "80     0.0  \n",
      "81  1494.0  \n",
      "82     0.0  \n",
      "83     0.0  \n",
      "84  2184.0  \n",
      "85     0.0  \n",
      "86   669.6  \n",
      "87     0.0  \n",
      "88  1494.0  \n",
      "89     0.0  \n",
      "90  2184.0  \n",
      "91     0.0  \n",
      "92   669.6  \n",
      "93     0.0  \n",
      "94  1494.0  \n",
      "95     0.0  \n",
      "96     0.0  \n",
      "97     0.0  \n",
      "98  2184.0  \n",
      "99     0.0  \n",
      "\n",
      "[100 rows x 9 columns]\n"
     ]
    },
    {
     "ename": "ValueError",
     "evalue": "Unexpected iterator global flag \"refs_OK\"",
     "output_type": "error",
     "traceback": [
      "\u001b[1;31m---------------------------------------------------------------------------\u001b[0m",
      "\u001b[1;31mValueError\u001b[0m                                Traceback (most recent call last)",
      "\u001b[1;32m<ipython-input-431-3d6b53090139>\u001b[0m in \u001b[0;36m<module>\u001b[1;34m\u001b[0m\n\u001b[0;32m     10\u001b[0m     \u001b[0msum\u001b[0m \u001b[1;33m=\u001b[0m \u001b[1;36m0\u001b[0m\u001b[1;33m\u001b[0m\u001b[1;33m\u001b[0m\u001b[0m\n\u001b[0;32m     11\u001b[0m     \u001b[0mcount\u001b[0m \u001b[1;33m=\u001b[0m \u001b[1;36m0\u001b[0m\u001b[1;33m\u001b[0m\u001b[1;33m\u001b[0m\u001b[0m\n\u001b[1;32m---> 12\u001b[1;33m     \u001b[1;32mfor\u001b[0m \u001b[0mreason_table\u001b[0m \u001b[1;32min\u001b[0m \u001b[0mnp\u001b[0m\u001b[1;33m.\u001b[0m\u001b[0mnditer\u001b[0m\u001b[1;33m(\u001b[0m\u001b[0mrow\u001b[0m\u001b[1;33m,\u001b[0m \u001b[0mflags\u001b[0m\u001b[1;33m=\u001b[0m\u001b[1;33m[\u001b[0m\u001b[1;34m\"refs_OK\"\u001b[0m\u001b[1;33m]\u001b[0m\u001b[1;33m,\u001b[0m \u001b[0mop_flags\u001b[0m\u001b[1;33m=\u001b[0m\u001b[1;33m[\u001b[0m\u001b[1;34m\"readwrite\"\u001b[0m\u001b[1;33m]\u001b[0m\u001b[1;33m)\u001b[0m\u001b[1;33m:\u001b[0m\u001b[1;33m\u001b[0m\u001b[1;33m\u001b[0m\u001b[0m\n\u001b[0m\u001b[0;32m     13\u001b[0m         \u001b[0mheader\u001b[0m\u001b[1;33m\u001b[0m\u001b[1;33m\u001b[0m\u001b[0m\n",
      "\u001b[1;31mValueError\u001b[0m: Unexpected iterator global flag \"refs_OK\""
     ]
    }
   ],
   "source": [
    "# get all data as panda DataFrame\n",
    "data = pd.read_csv(\"tabla_reports.csv\")\n",
    "print(data)\n",
    "\n",
    "# get values as numpy array\n",
    "data_ar = data.values\n",
    "header = []# numpy.ndarray, every element is a row\n",
    "for row in data_ar:\n",
    "    # print(row)\n",
    "    sum = 0\n",
    "    count = 0\n",
    "    for reason_table in np.nditer(row, flags=[\"refs_OK\"], op_flags=[\"readwrite\"]):\n",
    "        header"
   ]
  },
  {
   "cell_type": "code",
   "execution_count": 433,
   "metadata": {},
   "outputs": [
    {
     "data": {
      "text/plain": [
       "numpy.ndarray"
      ]
     },
     "execution_count": 433,
     "metadata": {},
     "output_type": "execute_result"
    }
   ],
   "source": [
    "type(data_ar)"
   ]
  },
  {
   "cell_type": "code",
   "execution_count": 434,
   "metadata": {},
   "outputs": [
    {
     "name": "stdout",
     "output_type": "stream",
     "text": [
      "  C_CONTIGUOUS : False\n",
      "  F_CONTIGUOUS : True\n",
      "  OWNDATA : False\n",
      "  WRITEABLE : True\n",
      "  ALIGNED : True\n",
      "  WRITEBACKIFCOPY : False\n",
      "  UPDATEIFCOPY : False\n"
     ]
    }
   ],
   "source": [
    "print(data_ar.flags)"
   ]
  },
  {
   "cell_type": "code",
   "execution_count": 435,
   "metadata": {},
   "outputs": [],
   "source": [
    "array = data_ar[:10]"
   ]
  },
  {
   "cell_type": "code",
   "execution_count": 437,
   "metadata": {},
   "outputs": [],
   "source": [
    "#array"
   ]
  },
  {
   "cell_type": "markdown",
   "metadata": {},
   "source": [
    "** INDICES CORRESPONDIENTES A LOS LOS MAYORES VALORES"
   ]
  },
  {
   "cell_type": "markdown",
   "metadata": {},
   "source": [
    "* forma1"
   ]
  },
  {
   "cell_type": "code",
   "execution_count": 438,
   "metadata": {},
   "outputs": [
    {
     "data": {
      "text/plain": [
       "[6, 0, 2]"
      ]
     },
     "execution_count": 438,
     "metadata": {},
     "output_type": "execute_result"
    }
   ],
   "source": [
    "import heapq\n",
    "a = np.array([25,2,9,5,1,7,40])\n",
    "heapq.nlargest(3, range(len(a)), a.take)\n"
   ]
  },
  {
   "cell_type": "markdown",
   "metadata": {},
   "source": [
    "* forma2"
   ]
  },
  {
   "cell_type": "code",
   "execution_count": 439,
   "metadata": {},
   "outputs": [
    {
     "data": {
      "text/plain": [
       "array([5, 2, 0, 6], dtype=int64)"
      ]
     },
     "execution_count": 439,
     "metadata": {},
     "output_type": "execute_result"
    }
   ],
   "source": [
    "ind = np.argpartition(a, -4)[-4:]\n",
    "ind"
   ]
  },
  {
   "cell_type": "markdown",
   "metadata": {},
   "source": [
    "* forma3"
   ]
  },
  {
   "cell_type": "code",
   "execution_count": 440,
   "metadata": {},
   "outputs": [
    {
     "data": {
      "text/plain": [
       "array([6, 0, 2, 5, 3, 1, 4], dtype=int64)"
      ]
     },
     "execution_count": 440,
     "metadata": {},
     "output_type": "execute_result"
    }
   ],
   "source": [
    "idx = (-a).argsort()[:]\n",
    "idx"
   ]
  },
  {
   "cell_type": "markdown",
   "metadata": {},
   "source": [
    "* forma4 : funcion para obtener los indices de aquellos elementos mayores"
   ]
  },
  {
   "cell_type": "code",
   "execution_count": 441,
   "metadata": {},
   "outputs": [],
   "source": [
    "def largest_indices(arry, n):\n",
    "    \"\"\"Returns the n largest indices from a numpy array.\"\"\"\n",
    "    flat = arry.flatten()\n",
    "    indices = np.argpartition(flat, -n)[-n:]\n",
    "    indices = indices[np.argsort(-flat[indices])]\n",
    "    return np.unravel_index(indices, arry.shape)"
   ]
  },
  {
   "cell_type": "code",
   "execution_count": 442,
   "metadata": {},
   "outputs": [
    {
     "data": {
      "text/plain": [
       "(array([6, 0, 2, 5, 3, 1, 4], dtype=int64),)"
      ]
     },
     "execution_count": 442,
     "metadata": {},
     "output_type": "execute_result"
    }
   ],
   "source": [
    "largest_indices(a, n=len(a)) # obtengo los indices"
   ]
  },
  {
   "cell_type": "code",
   "execution_count": 443,
   "metadata": {},
   "outputs": [
    {
     "data": {
      "text/plain": [
       "array([40, 25,  9,  7,  5,  2,  1])"
      ]
     },
     "execution_count": 443,
     "metadata": {},
     "output_type": "execute_result"
    }
   ],
   "source": [
    "a[largest_indices(a,n=len(a))] # obtengo los valores ordenados"
   ]
  },
  {
   "cell_type": "markdown",
   "metadata": {},
   "source": [
    "* forma 5"
   ]
  },
  {
   "cell_type": "code",
   "execution_count": 444,
   "metadata": {},
   "outputs": [
    {
     "data": {
      "text/plain": [
       "array([4, 1, 5, 6], dtype=int64)"
      ]
     },
     "execution_count": 444,
     "metadata": {},
     "output_type": "execute_result"
    }
   ],
   "source": [
    "K = 4 # We want the indices of the four largest values\n",
    "a = np.array([0, 8, 0, 4, 5, 8, 8, 0, 4, 2])\n",
    "resultado = np.argpartition(a,-K)[-K:]\n",
    "resultado"
   ]
  },
  {
   "cell_type": "markdown",
   "metadata": {},
   "source": [
    "* forma6 = cuando tenemos una multidimensional"
   ]
  },
  {
   "cell_type": "code",
   "execution_count": 445,
   "metadata": {},
   "outputs": [
    {
     "data": {
      "text/plain": [
       "array([[0, 2, 1],\n",
       "       [2, 0, 1]], dtype=int64)"
      ]
     },
     "execution_count": 445,
     "metadata": {},
     "output_type": "execute_result"
    }
   ],
   "source": [
    "arr = np.array([[2,45,7],[39,45,2]])\n",
    "N = len(arr)\n",
    "indices = np.argpartition(arr, 1, axis=1)[:, :]\n",
    "indices"
   ]
  },
  {
   "cell_type": "code",
   "execution_count": 446,
   "metadata": {},
   "outputs": [
    {
     "name": "stdout",
     "output_type": "stream",
     "text": [
      "<class 'numpy.ndarray'>\n"
     ]
    }
   ],
   "source": [
    "print(type(array))"
   ]
  },
  {
   "cell_type": "code",
   "execution_count": 447,
   "metadata": {},
   "outputs": [
    {
     "data": {
      "text/plain": [
       "array([[0, 2, 1],\n",
       "       [2, 0, 1]], dtype=int64)"
      ]
     },
     "execution_count": 447,
     "metadata": {},
     "output_type": "execute_result"
    }
   ],
   "source": [
    "indices = np.argsort(arr, axis=1)[-N:, :]\n",
    "indices"
   ]
  },
  {
   "cell_type": "markdown",
   "metadata": {},
   "source": [
    "* forma7"
   ]
  },
  {
   "cell_type": "code",
   "execution_count": 448,
   "metadata": {},
   "outputs": [
    {
     "data": {
      "text/plain": [
       "[(4, 50), (1, 45), (3, 39), (2, 7), (0, 2), (5, 2)]"
      ]
     },
     "execution_count": 448,
     "metadata": {},
     "output_type": "execute_result"
    }
   ],
   "source": [
    "A = [2,45,7,39,50,2]\n",
    "from operator import itemgetter\n",
    "from heapq import nlargest\n",
    "result = nlargest(len(A), enumerate(A), itemgetter(1))\n",
    "result"
   ]
  },
  {
   "cell_type": "markdown",
   "metadata": {},
   "source": [
    "* forma8 >> con funcion"
   ]
  },
  {
   "cell_type": "code",
   "execution_count": 449,
   "metadata": {},
   "outputs": [],
   "source": [
    "def max_indices(arr, k):\n",
    "    '''\n",
    "    Returns the indices of the k first largest elements of arr\n",
    "    (in descending order in values)\n",
    "    '''\n",
    "    assert k <= arr.size, 'k should be smaller or equal to the array size'\n",
    "    arr_ = arr.astype(float)  # make a copy of arr\n",
    "    max_idxs = []\n",
    "    for _ in range(k):\n",
    "        max_element = np.max(arr_)\n",
    "        if np.isinf(max_element):\n",
    "            break\n",
    "        else:\n",
    "            idx = np.where(arr_ == max_element)\n",
    "        max_idxs.append(idx)\n",
    "        arr_[idx] = -np.inf\n",
    "    return max_idxs"
   ]
  },
  {
   "cell_type": "code",
   "execution_count": null,
   "metadata": {},
   "outputs": [],
   "source": []
  },
  {
   "cell_type": "code",
   "execution_count": 450,
   "metadata": {},
   "outputs": [],
   "source": [
    "arr = np.array([[2,45,7],[39,45,2],[2,1,7],[2,450,266]])"
   ]
  },
  {
   "cell_type": "code",
   "execution_count": 451,
   "metadata": {},
   "outputs": [
    {
     "data": {
      "text/plain": [
       "4"
      ]
     },
     "execution_count": 451,
     "metadata": {},
     "output_type": "execute_result"
    }
   ],
   "source": [
    "k=(len(arr))\n",
    "k"
   ]
  },
  {
   "cell_type": "code",
   "execution_count": 452,
   "metadata": {},
   "outputs": [],
   "source": [
    "def max_indices(arr, k):\n",
    "    '''\n",
    "    Returns the indices of the k first largest elements of arr\n",
    "    (in descending order in values)\n",
    "    '''\n",
    "    assert k <= arr.size, 'k should be smaller or equal to the array size'\n",
    "    arr_ = arr.astype(float)  # make a copy of arr\n",
    "    max_idxs = []\n",
    "    for _ in range(k):\n",
    "        max_element = np.max(arr_)\n",
    "        if np.isinf(max_element):\n",
    "            break\n",
    "        else:\n",
    "            idx = np.where(arr_ == max_element)\n",
    "        max_idxs.append(idx)\n",
    "        arr_[idx] = -np.inf\n",
    "    return max_idxs"
   ]
  },
  {
   "cell_type": "code",
   "execution_count": 453,
   "metadata": {},
   "outputs": [
    {
     "data": {
      "text/plain": [
       "[(array([3], dtype=int64), array([1], dtype=int64)),\n",
       " (array([3], dtype=int64), array([2], dtype=int64)),\n",
       " (array([0, 1], dtype=int64), array([1, 1], dtype=int64)),\n",
       " (array([1], dtype=int64), array([0], dtype=int64))]"
      ]
     },
     "execution_count": 453,
     "metadata": {},
     "output_type": "execute_result"
    }
   ],
   "source": [
    "max_indices(arr, k)"
   ]
  },
  {
   "cell_type": "code",
   "execution_count": 454,
   "metadata": {},
   "outputs": [
    {
     "data": {
      "text/plain": [
       "450"
      ]
     },
     "execution_count": 454,
     "metadata": {},
     "output_type": "execute_result"
    }
   ],
   "source": [
    "arr[max_indices(arr, 4)[0]][0] # retorna el mayor valor total "
   ]
  },
  {
   "cell_type": "code",
   "execution_count": 455,
   "metadata": {},
   "outputs": [
    {
     "data": {
      "text/plain": [
       "array([[  2,  45,   7],\n",
       "       [ 39,  45,   2],\n",
       "       [  2,   1,   7],\n",
       "       [  2, 450, 266]])"
      ]
     },
     "execution_count": 455,
     "metadata": {},
     "output_type": "execute_result"
    }
   ],
   "source": [
    "arr"
   ]
  },
  {
   "cell_type": "code",
   "execution_count": 456,
   "metadata": {},
   "outputs": [
    {
     "data": {
      "text/plain": [
       "39"
      ]
     },
     "execution_count": 456,
     "metadata": {},
     "output_type": "execute_result"
    }
   ],
   "source": [
    "arr[max_indices(arr, 4)[3]][0]  # no lo entiendo"
   ]
  },
  {
   "cell_type": "code",
   "execution_count": null,
   "metadata": {},
   "outputs": [],
   "source": []
  },
  {
   "cell_type": "code",
   "execution_count": 457,
   "metadata": {},
   "outputs": [],
   "source": [
    "array = np.array([[1,45,7],[39,45,2],[2,3,7],[2,450,266]])"
   ]
  },
  {
   "cell_type": "markdown",
   "metadata": {},
   "source": [
    "* insertar valores en una matriz"
   ]
  },
  {
   "cell_type": "markdown",
   "metadata": {},
   "source": [
    "* forma 1"
   ]
  },
  {
   "cell_type": "code",
   "execution_count": 458,
   "metadata": {},
   "outputs": [
    {
     "data": {
      "text/plain": [
       "array([[  1,   0,  45,   7],\n",
       "       [ 39,   0,  45,   2],\n",
       "       [  2,   0,   3,   7],\n",
       "       [  2,   0, 450, 266]])"
      ]
     },
     "execution_count": 458,
     "metadata": {},
     "output_type": "execute_result"
    }
   ],
   "source": [
    "b = np.insert(array, 1, values=0, axis=1) # 1 indeca la posicion donde queremos\n",
    "b"
   ]
  },
  {
   "cell_type": "markdown",
   "metadata": {},
   "source": [
    "* forma2"
   ]
  },
  {
   "cell_type": "code",
   "execution_count": 307,
   "metadata": {},
   "outputs": [
    {
     "data": {
      "text/plain": [
       "array([['1', '45', '7', 'total'],\n",
       "       ['39', '45', '2', 'total'],\n",
       "       ['2', '3', '7', 'total'],\n",
       "       ['2', '450', '266', 'total']], dtype='<U11')"
      ]
     },
     "execution_count": 307,
     "metadata": {},
     "output_type": "execute_result"
    }
   ],
   "source": [
    "source = array.tolist()\n",
    "result = [row + ['total'] for row in source]\n",
    "b = np.array(result)\n",
    "b"
   ]
  },
  {
   "cell_type": "code",
   "execution_count": 310,
   "metadata": {},
   "outputs": [
    {
     "data": {
      "text/plain": [
       "array([[  1,  45,   7],\n",
       "       [ 39,  45,   2],\n",
       "       [  2,   3,   7],\n",
       "       [  2, 450, 266]])"
      ]
     },
     "execution_count": 310,
     "metadata": {},
     "output_type": "execute_result"
    }
   ],
   "source": [
    "array\n"
   ]
  },
  {
   "cell_type": "code",
   "execution_count": 317,
   "metadata": {},
   "outputs": [
    {
     "data": {
      "text/plain": [
       "array([[  1,  45,   7,   0],\n",
       "       [ 39,  45,   2,   0],\n",
       "       [  2,   3,   7,   0],\n",
       "       [  2, 450, 266,   0]])"
      ]
     },
     "execution_count": 317,
     "metadata": {},
     "output_type": "execute_result"
    }
   ],
   "source": [
    "# new_col = np.array(['accepted', 'declain', 'accepted','paid'])\n",
    "new_col = np.array([0,0,0,0])\n",
    "idx =3\n",
    "np.insert(array, idx, new_col, axis=1)"
   ]
  },
  {
   "cell_type": "markdown",
   "metadata": {},
   "source": [
    "* como modificar un valor"
   ]
  },
  {
   "cell_type": "code",
   "execution_count": 322,
   "metadata": {},
   "outputs": [],
   "source": [
    "A = np.matrix(data_ar[:5])"
   ]
  },
  {
   "cell_type": "code",
   "execution_count": 328,
   "metadata": {},
   "outputs": [
    {
     "data": {
      "text/plain": [
       "matrix([['no'],\n",
       "        ['paid'],\n",
       "        ['created'],\n",
       "        ['created'],\n",
       "        ['created']], dtype=object)"
      ]
     },
     "execution_count": 328,
     "metadata": {},
     "output_type": "execute_result"
    }
   ],
   "source": [
    "A[:,[2]]"
   ]
  },
  {
   "cell_type": "code",
   "execution_count": null,
   "metadata": {},
   "outputs": [],
   "source": [
    "np.asarray(A)[:,[3]]='REBECA'"
   ]
  },
  {
   "cell_type": "code",
   "execution_count": null,
   "metadata": {},
   "outputs": [],
   "source": [
    "b =['paid']"
   ]
  },
  {
   "cell_type": "markdown",
   "metadata": {},
   "source": [
    "* valores unicos"
   ]
  },
  {
   "cell_type": "code",
   "execution_count": 355,
   "metadata": {},
   "outputs": [
    {
     "data": {
      "text/plain": [
       "array([['1', '1', 'a'],\n",
       "       ['1', '1', '2'],\n",
       "       ['2', '3', '7'],\n",
       "       ['2', '2', '3']], dtype='<U11')"
      ]
     },
     "execution_count": 355,
     "metadata": {},
     "output_type": "execute_result"
    }
   ],
   "source": [
    "array = np.array([[  1,  1,   'a'],[ 1,  1,   2],[  2,   3,   7],[  2, 2, 3]])\n",
    "array"
   ]
  },
  {
   "cell_type": "code",
   "execution_count": 357,
   "metadata": {},
   "outputs": [
    {
     "data": {
      "text/plain": [
       "array(['2', '3', '7', 'a'], dtype='<U1')"
      ]
     },
     "execution_count": 357,
     "metadata": {},
     "output_type": "execute_result"
    }
   ],
   "source": [
    "new_array = [tuple(row) for row in array[:,[2]]]\n",
    "uniques = np.unique(new_array)\n",
    "uniques"
   ]
  },
  {
   "cell_type": "code",
   "execution_count": 347,
   "metadata": {},
   "outputs": [
    {
     "data": {
      "text/plain": [
       "array([[  1,  45,   7],\n",
       "       [  2, 450, 266],\n",
       "       [ 39,  45,   2],\n",
       "       [  2,   3,   7]])"
      ]
     },
     "execution_count": 347,
     "metadata": {},
     "output_type": "execute_result"
    }
   ],
   "source": [
    "b"
   ]
  },
  {
   "cell_type": "markdown",
   "metadata": {},
   "source": [
    "* cambiar valores de una columna"
   ]
  },
  {
   "cell_type": "code",
   "execution_count": 358,
   "metadata": {},
   "outputs": [
    {
     "data": {
      "text/plain": [
       "matrix([['no', 'no', 'no', 'no', 'no', 'no', 'no', 'no', 'no'],\n",
       "        ['no', 3, 'paid', 'no', nan, nan, nan, nan, 0.0],\n",
       "        ['no', 4, 'created', 'no', 'CWI', '03/10/2018', nan, nan, 0.0],\n",
       "        ['no', 5, 'created', 'no', 'CWI', '03/10/2018', 'Cancelled',\n",
       "         '03/10/2018', 0.0],\n",
       "        ['no', 6, 'created', 'no', 'CWI', '03/10/2018', 'Cancelled',\n",
       "         '03/10/2018', 2184.0]], dtype=object)"
      ]
     },
     "execution_count": 358,
     "metadata": {},
     "output_type": "execute_result"
    }
   ],
   "source": [
    "np.asarray(A)[:,[3]]='no'\n",
    "A"
   ]
  },
  {
   "cell_type": "markdown",
   "metadata": {},
   "source": [
    "* guardo los datos"
   ]
  },
  {
   "cell_type": "code",
   "execution_count": 473,
   "metadata": {},
   "outputs": [],
   "source": [
    "import csv\n",
    "import numpy as np\n",
    "import pandas as pd\n"
   ]
  },
  {
   "cell_type": "code",
   "execution_count": 474,
   "metadata": {},
   "outputs": [],
   "source": [
    "with open('tabla_reports.csv', newline='') as File:  \n",
    "    reader = csv.reader(File)\n",
    "    header = []\n",
    "    for row in reader:\n",
    "        header.append(row)"
   ]
  },
  {
   "cell_type": "code",
   "execution_count": 475,
   "metadata": {},
   "outputs": [
    {
     "data": {
      "text/plain": [
       "(101, 9)"
      ]
     },
     "execution_count": 475,
     "metadata": {},
     "output_type": "execute_result"
    }
   ],
   "source": [
    "array = np.array(header)\n",
    "array.shape"
   ]
  },
  {
   "cell_type": "code",
   "execution_count": 476,
   "metadata": {},
   "outputs": [
    {
     "data": {
      "text/plain": [
       "matrix([[  1,  45,   7],\n",
       "        [ 39,  45,   2],\n",
       "        [  2,   3,   7],\n",
       "        [  2, 450, 266]])"
      ]
     },
     "execution_count": 476,
     "metadata": {},
     "output_type": "execute_result"
    }
   ],
   "source": [
    "matrix"
   ]
  },
  {
   "cell_type": "code",
   "execution_count": 477,
   "metadata": {},
   "outputs": [
    {
     "data": {
      "text/plain": [
       "array([['company_name', 'id', 'reason_table', 'claim_open_date',\n",
       "        'amount'],\n",
       "       ['Reynards Legal Limited', '2', 'created', 'NULL', '0'],\n",
       "       ['Reynards Legal Limited', '3', 'paid', 'NULL', '0'],\n",
       "       ['Reynards Legal Limited', '4', 'created', '03/10/2018', '0'],\n",
       "       ['Reynards Legal Limited', '5', 'created', '03/10/2018', '0'],\n",
       "       ['Reynards Legal Limited', '6', 'created', '03/10/2018', '2184'],\n",
       "       ['Reynards Legal Limited', '7', 'calculated', '03/10/2018', '0']],\n",
       "      dtype='<U29')"
      ]
     },
     "execution_count": 477,
     "metadata": {},
     "output_type": "execute_result"
    }
   ],
   "source": [
    "\n",
    "matrix = np.matrix(array)\n",
    "my_array = array[:7,:9]\n",
    "arr = array[:7,[0,1,2,5,8]]\n",
    "arr"
   ]
  },
  {
   "cell_type": "code",
   "execution_count": 485,
   "metadata": {},
   "outputs": [],
   "source": [
    "a = np.array(arr[:,[-1]])"
   ]
  },
  {
   "cell_type": "markdown",
   "metadata": {},
   "source": [
    "* removing nan values from an array"
   ]
  },
  {
   "cell_type": "code",
   "execution_count": 491,
   "metadata": {},
   "outputs": [],
   "source": [
    "def jsonify(array):\n",
    "    json_data = dict()\n",
    "    for key, value in data.iteritems():\n",
    "        if isinstance(value, list): # for lists\n",
    "            value = [ jsonify(item) if isinstance(item, dict) else item for item in value ]\n",
    "        if isinstance(value, dict): # for nested lists\n",
    "            value = jsonify(value)\n",
    "        if isinstance(key, int): # if key is integer: > to string\n",
    "            key = str(key)\n",
    "        if type(value).__module__=='numpy': # if value is numpy.*: > to python list\n",
    "            value = value.tolist()\n",
    "        json_data[key] = value\n",
    "    return json_data"
   ]
  },
  {
   "cell_type": "code",
   "execution_count": 515,
   "metadata": {},
   "outputs": [],
   "source": [
    "# jsonify(array)"
   ]
  },
  {
   "cell_type": "markdown",
   "metadata": {},
   "source": [
    "* lambda, map"
   ]
  },
  {
   "cell_type": "code",
   "execution_count": 536,
   "metadata": {},
   "outputs": [],
   "source": [
    "x = np.array([[1,3,6,88,9]])\n",
    "y = []"
   ]
  },
  {
   "cell_type": "code",
   "execution_count": 537,
   "metadata": {},
   "outputs": [
    {
     "data": {
      "text/plain": [
       "[array([  5,  15,  30, 440,  45])]"
      ]
     },
     "execution_count": 537,
     "metadata": {},
     "output_type": "execute_result"
    }
   ],
   "source": [
    "for v in x:\n",
    "    y = [v*5]\n",
    "y"
   ]
  },
  {
   "cell_type": "code",
   "execution_count": 539,
   "metadata": {},
   "outputs": [
    {
     "data": {
      "text/plain": [
       "[array([  5,  15,  30, 440,  45])]"
      ]
     },
     "execution_count": 539,
     "metadata": {},
     "output_type": "execute_result"
    }
   ],
   "source": [
    "y = [v*5 for v in x]\n",
    "y"
   ]
  },
  {
   "cell_type": "code",
   "execution_count": 543,
   "metadata": {},
   "outputs": [
    {
     "data": {
      "text/plain": [
       "[array([-1,  1,  4, 86,  7])]"
      ]
     },
     "execution_count": 543,
     "metadata": {},
     "output_type": "execute_result"
    }
   ],
   "source": [
    "y = list(map(lambda v : v -2, x))\n",
    "y"
   ]
  },
  {
   "cell_type": "code",
   "execution_count": 553,
   "metadata": {},
   "outputs": [
    {
     "data": {
      "text/plain": [
       "(7, 5)"
      ]
     },
     "execution_count": 553,
     "metadata": {},
     "output_type": "execute_result"
    }
   ],
   "source": [
    "arr.shape\n"
   ]
  },
  {
   "cell_type": "code",
   "execution_count": 557,
   "metadata": {},
   "outputs": [],
   "source": [
    "x = arr[:,[1,2,4]]\n",
    "y = []"
   ]
  },
  {
   "cell_type": "code",
   "execution_count": 559,
   "metadata": {},
   "outputs": [
    {
     "data": {
      "text/plain": [
       "array([['id', 'reason_table', 'amount'],\n",
       "       ['2', 'created', '0'],\n",
       "       ['3', 'paid', '0'],\n",
       "       ['4', 'created', '0'],\n",
       "       ['5', 'created', '0'],\n",
       "       ['6', 'created', '2184'],\n",
       "       ['7', 'calculated', '0']], dtype='<U29')"
      ]
     },
     "execution_count": 559,
     "metadata": {},
     "output_type": "execute_result"
    }
   ],
   "source": [
    "x"
   ]
  },
  {
   "cell_type": "code",
   "execution_count": 576,
   "metadata": {},
   "outputs": [
    {
     "data": {
      "text/plain": [
       "[['amount'], ['0'], ['0'], ['0'], ['0'], ['2184'], ['0']]"
      ]
     },
     "execution_count": 576,
     "metadata": {},
     "output_type": "execute_result"
    }
   ],
   "source": [
    "x[:,[2]].tolist()"
   ]
  },
  {
   "cell_type": "code",
   "execution_count": 586,
   "metadata": {},
   "outputs": [
    {
     "data": {
      "text/plain": [
       "<map at 0x1d40c5a01d0>"
      ]
     },
     "execution_count": 586,
     "metadata": {},
     "output_type": "execute_result"
    }
   ],
   "source": [
    "y = map(lambda v : v * 5, filter(lambda u : u % 2, x))\n",
    "y"
   ]
  },
  {
   "cell_type": "code",
   "execution_count": 591,
   "metadata": {},
   "outputs": [
    {
     "data": {
      "text/plain": [
       "[6, 7, 7, 8, 8, 9]"
      ]
     },
     "execution_count": 591,
     "metadata": {},
     "output_type": "execute_result"
    }
   ],
   "source": [
    "x = [2, 3, 4]\n",
    "y = [4, 5]\n",
    "z = [v + w for v in x for w in y]\n",
    "z"
   ]
  },
  {
   "cell_type": "code",
   "execution_count": 595,
   "metadata": {},
   "outputs": [
    {
     "data": {
      "text/plain": [
       "False"
      ]
     },
     "execution_count": 595,
     "metadata": {},
     "output_type": "execute_result"
    }
   ],
   "source": [
    "x = [2, 3, 4]\n",
    "y = [4, 5]\n",
    "t = map(lambda v : map(lambda w : v + w, y), x)\n",
    "t == [[6, 7], [7, 8], [8, 9]]\n"
   ]
  },
  {
   "cell_type": "code",
   "execution_count": 598,
   "metadata": {},
   "outputs": [
    {
     "data": {
      "text/plain": [
       "[6, 7, 7, 8, 8, 9]"
      ]
     },
     "execution_count": 598,
     "metadata": {},
     "output_type": "execute_result"
    }
   ],
   "source": [
    "[v + w for v in x for w in y]"
   ]
  },
  {
   "cell_type": "code",
   "execution_count": null,
   "metadata": {},
   "outputs": [],
   "source": []
  }
 ],
 "metadata": {
  "kernelspec": {
   "display_name": "Python 3",
   "language": "python",
   "name": "python3"
  },
  "language_info": {
   "codemirror_mode": {
    "name": "ipython",
    "version": 3
   },
   "file_extension": ".py",
   "mimetype": "text/x-python",
   "name": "python",
   "nbconvert_exporter": "python",
   "pygments_lexer": "ipython3",
   "version": "3.7.1"
  }
 },
 "nbformat": 4,
 "nbformat_minor": 2
}
